{
 "cells": [
  {
   "cell_type": "code",
   "execution_count": 2,
   "metadata": {
    "scrolled": false
   },
   "outputs": [
    {
     "data": {
      "text/plain": [
       "ephemInterp (generic function with 1 method)"
      ]
     },
     "execution_count": 2,
     "metadata": {},
     "output_type": "execute_result"
    }
   ],
   "source": [
    "#This just does nice interpolations from the ephemeris data for the Sun and moon\n",
    "using Interpolations\n",
    "function ephemInterp(t,x1,x2,x3,x4,x5,x6)\n",
    "x = [x1[t], x2[t], x3[t], x4[t], x5[t], x6[t]];\n",
    "end"
   ]
  },
  {
   "cell_type": "code",
   "execution_count": 3,
   "metadata": {
    "scrolled": true
   },
   "outputs": [
    {
     "data": {
      "text/plain": [
       "dynamics (generic function with 1 method)"
      ]
     },
     "execution_count": 3,
     "metadata": {},
     "output_type": "execute_result"
    }
   ],
   "source": [
    "#This is the dynamics function for the spacecraft.\n",
    "#It accounts for 1/r^2 gravity from the Earth, Sun, and moon.\n",
    "function dynamics(xdot,x,ephem,t)\n",
    "\n",
    "#Gravitational parameters (GM) in 1000*km^3/day^2\n",
    "mu_s = 1.3271244004193938e11*((60*60*24)^2/(1000^3));\n",
    "mu_e = 398600.440*((60*60*24)^2/(1000^3));\n",
    "mu_m = 4902.80007*((60*60*24)^2/(1000^3));\n",
    "#J2 = 1.08263e-3; %J2 spherical harmonic coefficient\n",
    "#Re = 6378.1363/1000; %1000*km\n",
    "\n",
    "rsm = ephemInterp(t,ephem[1],ephem[2],ephem[3],ephem[4],ephem[5],ephem[6]);\n",
    "r_sun = rsm[1:3];\n",
    "r_moon = rsm[4:6];\n",
    "\n",
    "r = x[1:3];\n",
    "rmag = sqrt.(r'*r);\n",
    "rm = r-r_moon;\n",
    "rmmag = sqrt.(rm'*rm);\n",
    "rs = r-r_sun;\n",
    "rsmag = sqrt.(rs'*rs);\n",
    "rfmag = sqrt.(r_sun'*r_sun);\n",
    "\n",
    "v = x[4:6];\n",
    "\n",
    "a_earth = -mu_e*r/(rmag^3);\n",
    "a_moon = -mu_m*rm/(rmmag^3);\n",
    "a_sun = -mu_s*rs/(rsmag^3);\n",
    "a_frame = -mu_s*r_sun/(rfmag^3);\n",
    "\n",
    "a = a_earth + a_moon + a_sun + a_frame;\n",
    "\n",
    "xdot[1:3] = v;\n",
    "xdot[4:6] = a;\n",
    "\n",
    "#da_earth = -(mu_e/(rmag^3))*eye(3) + (3*mu_e/(rmag^5))*(r*r');\n",
    "#da_moon = -(mu_m/(rmmag^3))*eye(3) + (3*mu_m/(rmmag^5))*(rm*rm');\n",
    "#da_sun = -(mu_s/(rsmag^3))*eye(3) + (3*mu_s/(rsmag^5))*(rs*rs');\n",
    "#da = da_earth + da_moon + da_sun;\n",
    "    \n",
    "#A = [zeros(3) eye(3); da  zeros(3)];\n",
    "\n",
    "#return (xdot, A)\n",
    "    \n",
    "end"
   ]
  },
  {
   "cell_type": "code",
   "execution_count": 7,
   "metadata": {
    "scrolled": true
   },
   "outputs": [
    {
     "data": {
      "text/plain": [
       "readEphemData (generic function with 1 method)"
      ]
     },
     "execution_count": 7,
     "metadata": {},
     "output_type": "execute_result"
    }
   ],
   "source": [
    "#This function reads in a .csv ephemeris file from the JPL horizons website\n",
    "using CSV\n",
    "\n",
    "function readEphemData(filename)\n",
    "Data = CSV.read(filename);\n",
    "t = convert(Array{Float64},Data[1]); #time in days\n",
    "t = t .- t[1]; #start at t=0\n",
    "r1 = convert(Array{Float64},Data[3]); #km\n",
    "r2 = convert(Array{Float64},Data[4]);\n",
    "r3 = convert(Array{Float64},Data[5]);\n",
    "v1 = convert(Array{Float64},Data[6]); #km/s\n",
    "v2 = convert(Array{Float64},Data[7]);\n",
    "v3 = convert(Array{Float64},Data[8]);\n",
    "\n",
    "return (t, [r1 r2 r3 v1 v2 v3]');\n",
    "end"
   ]
  },
  {
   "cell_type": "code",
   "execution_count": 8,
   "metadata": {
    "scrolled": true
   },
   "outputs": [
    {
     "data": {
      "text/plain": [
       "rot3 (generic function with 1 method)"
      ]
     },
     "execution_count": 8,
     "metadata": {},
     "output_type": "execute_result"
    }
   ],
   "source": [
    "#This function converts classical orbital elements to ECI state vectors\n",
    "#Adapted from Astrodynamics by Vallado\n",
    "function coe2rv(p,ecc,incl,omega,argp,nu);\n",
    "mu_e = 398600.440;\n",
    "small = 0.00000001;\n",
    "\n",
    "#if ( ecc < small )\n",
    "#    if (incl<small) | ( abs(incl-pi)< small )\n",
    "#        argp = 0.0;\n",
    "#        omega= 0.0;\n",
    "#        nu   = truelon;\n",
    "#    else\n",
    "#        argp= 0.0;\n",
    "#        nu  = arglat;\n",
    "#    end\n",
    "#else\n",
    "#    if ( ( incl<small) | (abs(incl-pi)<small) )\n",
    "#        argp = lonper;\n",
    "#        omega= 0.0;\n",
    "#    end\n",
    "#end\n",
    "\n",
    "cosnu= cos(nu);\n",
    "sinnu= sin(nu);\n",
    "temp = p / (1.0  + ecc*cosnu);\n",
    "rpqw = [temp*cosnu, temp*sinnu, 0.0];\n",
    "if ( abs(p) < 0.0001)\n",
    "    p= 0.0001;\n",
    "end\n",
    "vpqw = [-sinnu*sqrt(mu_e)/sqrt(p), (ecc + cosnu)*sqrt(mu_e)/sqrt(p), 0.0];\n",
    "\n",
    "tempvec = rot3(rpqw, -argp);\n",
    "tempvec = rot1(tempvec, -incl);\n",
    "r = rot3(tempvec, -omega);\n",
    "\n",
    "tempvec = rot3(vpqw, -argp);\n",
    "tempvec = rot1(tempvec, -incl);\n",
    "v = rot3(tempvec, -omega);\n",
    "\n",
    "return (r, v);\n",
    "end\n",
    "\n",
    "function rot1(vec, xval)\n",
    "temp= vec[3];\n",
    "c= cos(xval);\n",
    "s= sin(xval);\n",
    "\n",
    "return [vec[1], c*vec[2] + s*temp, c*vec[3] - s*vec[2]];\n",
    "end\n",
    "\n",
    "function rot3(vec, xval)\n",
    "temp= vec[2];\n",
    "c= cos(xval);\n",
    "s= sin(xval);\n",
    "    \n",
    "return [c*vec[1] + s*temp, c*vec[2] - s*vec[1], vec[3]];\n",
    "end"
   ]
  },
  {
   "cell_type": "code",
   "execution_count": 9,
   "metadata": {
    "scrolled": false
   },
   "outputs": [
    {
     "ename": "LoadError",
     "evalue": "UndefVarError: diagm not defined",
     "output_type": "error",
     "traceback": [
      "UndefVarError: diagm not defined",
      "",
      "Stacktrace:",
      " [1] top-level scope at none:0"
     ]
    }
   ],
   "source": [
    "#This is the script that sets up the simulation\n",
    "\n",
    "#Load ephemeris for sun and moon from .csv files\n",
    "(t_sun,x_sun) = readEphemData(\"sun_ephem.csv\");\n",
    "(t_moon,x_moon) = readEphemData(\"moon_ephem.csv\");\n",
    "\n",
    "t_ephem = t_sun;\n",
    "x_ephem = [x_sun[1:3,:]/1000; x_moon[1:3,:]/1000]; #put distance in 1000*km\n",
    "\n",
    "#Set up linear interpolation of sun + moon positions positions\n",
    "xi1 = interpolate((t_ephem,), x_ephem[1,:], Gridded(Linear()));\n",
    "xi2 = interpolate((t_ephem,), x_ephem[2,:], Gridded(Linear()));\n",
    "xi3 = interpolate((t_ephem,), x_ephem[3,:], Gridded(Linear()));\n",
    "xi4 = interpolate((t_ephem,), x_ephem[4,:], Gridded(Linear()));\n",
    "xi5 = interpolate((t_ephem,), x_ephem[5,:], Gridded(Linear()));\n",
    "xi6 = interpolate((t_ephem,), x_ephem[6,:], Gridded(Linear()));\n",
    "xinterp = (xi1, xi2, xi3, xi4, xi5, xi6);\n",
    "\n",
    "#Hub Initial Conditions\n",
    "# 25 Jan 2024 22:30:25.520\n",
    "a = 243729.554542; #km\n",
    "e = 0.598335;\n",
    "i = 51.975*(pi/180);\n",
    "RAAN = 61.110*(pi/180);\n",
    "argp = 247.345*(pi/180);\n",
    "nu = 0.0; #true anomaly\n",
    "p = a*(1-e*e); #semilatus rectum\n",
    "\n",
    "#Convert to ECI state vector\n",
    "(r0,v0) = coe2rv(p,e,i,RAAN,argp,nu);\n",
    "\n",
    "#Convert units to 1000*km and days\n",
    "x0hub = [r0/1000; v0*(24*60*60/1000)];\n",
    "t0 = 25 + 22/24 + 30/(24*60) + 25.52/(24*60*60);\n",
    "\n",
    "dt = 24/24; #Take measurements once every 24 hours\n",
    "t_samp = t0:dt:(t0+14); #Run for 14 days\n",
    "\n",
    "Nx = 6; #State dimension\n",
    "N = length(t_samp); #Number of time steps\n",
    "\n",
    "x0node = diagm(ones(Nx)+[1e-4*randn(3); 1e-5*randn(3)])*x0hub; #Generate random node initial conditions\n",
    "\n",
    "#Propagate hub and node orbits (ground truth)\n",
    "using DifferentialEquations\n",
    "hub_prob = ODEProblem(dynamics,x0hub,(t_samp[1], t_samp[end]),xinterp);\n",
    "hub_soln = solve(hub_prob,Tsit5(),reltol=1e-9,abstol=1e-9,saveat=dt);\n",
    "node_prob = ODEProblem(dynamics,x0node,(t_samp[1], t_samp[end]),xinterp);\n",
    "node_soln = solve(node_prob,Tsit5(),reltol=1e-9,abstol=1e-9,saveat=dt);\n",
    "\n",
    "#Plot orbits\n",
    "using Plots\n",
    "plot(hub_soln[1,:],hub_soln[2,:],hub_soln[3,:],xshowaxis=false,yshowaxis=false,zshowaxis=false);\n",
    "plot!(node_soln[1,:],node_soln[2,:],node_soln[3,:],xshowaxis=false,yshowaxis=false,zshowaxis=false);\n",
    "scatter!([0.0],[0.0],[0.0],mcolor=:green)"
   ]
  },
  {
   "cell_type": "code",
   "execution_count": null,
   "metadata": {
    "scrolled": false
   },
   "outputs": [],
   "source": [
    "#Plot true Hub-Node range\n",
    "r = zeros(length(t_samp));\n",
    "for k = 1:length(t_samp)\n",
    "    r[k] = 1000*norm(node_soln[k][1:3] - hub_soln[k][1:3]);\n",
    "end\n",
    "plot(t_samp,r, xlabel=\"Time (Days)\", ylabel=\"Hub-Node Range (km)\")"
   ]
  },
  {
   "cell_type": "code",
   "execution_count": null,
   "metadata": {},
   "outputs": [],
   "source": [
    "#Generate noisy measurement data from ground truth simulations\n",
    "function observation(xnode,xhub)\n",
    "    y = norm(xnode[1:3]-xhub[1:3]);\n",
    "end\n",
    "\n",
    "yhist = zeros(length(hub_soln),1);\n",
    "xnode = zeros(6,length(node_soln));\n",
    "xhub = zeros(6,length(hub_soln));\n",
    "for k = 1:length(hub_soln)\n",
    "    xhub[:,k] = hub_soln[k];\n",
    "    xnode[:,k] = node_soln[k];\n",
    "    yhist[k] = observation(xnode[:,k], xhub[:,k]);\n",
    "    \n",
    "    yhist[k] += 1e-5*randn(); #Add noise: Std. Dev. = 10m in ranging\n",
    "    xhub[:,k] += [1e-3*randn(3,1); 1e-3*randn(3,1)]; #Add noise: Std. Dev. = 1km in position and about 1 cm/sec in velocity\n",
    "end"
   ]
  },
  {
   "cell_type": "code",
   "execution_count": null,
   "metadata": {},
   "outputs": [],
   "source": [
    "#Estimate full state trajectory\n",
    "\n",
    "function lsobj2(z,t_samp,dt,xinterp,xhub,yhist)\n",
    "    \n",
    "    Qinv = 1e-3*eye(6); #This weights dynamics accuracy vs. measurement accuracy.\n",
    "    \n",
    "    N = length(yhist);\n",
    "    \n",
    "    #Number of RK4 steps to take between observations\n",
    "    #I find that these steps should be no more than 3~4 hours long\n",
    "    Nstages = 8;\n",
    "    dts = dt/Nstages;\n",
    "    \n",
    "    xtraj = reshape(z[:],6,N);\n",
    "    \n",
    "    J = (yhist[1] - observation(xtraj[:,1], xhub[:,1])).^2;\n",
    "    \n",
    "    xd1 = xtraj[:,1];\n",
    "    xd2 = xtraj[:,1];\n",
    "    xd3 = xtraj[:,1];\n",
    "    xd4 = xtraj[:,1];\n",
    "    for k = 1:(length(t_samp)-1)\n",
    "        \n",
    "        xstage = xtraj[:,k];\n",
    "        tstage = t_samp[k]\n",
    "        for j = 1:Nstages\n",
    "            dynamics(xd1,xstage,xinterp,tstage);\n",
    "            dynamics(xd2,xstage+0.5*dts*xd1,xinterp,tstage+0.5*dts);\n",
    "            dynamics(xd3,xstage+0.5*dts*xd2,xinterp,tstage+0.5*dts);\n",
    "            dynamics(xd4,xstage+dts*xd3,xinterp,tstage+dts);\n",
    "        \n",
    "            xstage += (dts/6)*(xd1 + 2*xd2 + 2*xd3 + xd4);\n",
    "            tstage += dts;\n",
    "        end\n",
    "        xp = xstage;\n",
    "        \n",
    "        #Cost function weights dyamics predictions vs. observations\n",
    "        #This is the same Maximum a-posteriori cost function that a Kalman filter optimizes\n",
    "        #But here we're treating it in its full nonlinear glory without making any linearizations\n",
    "        #Or assumptions that the errors are Gaussian\n",
    "        J += (xp-xtraj[:,k+1])'*Qinv*(xp-xtraj[:,k+1]) + (yhist[k+1]-observation(xtraj[:,k+1], xhub[:,k+1])).^2;\n",
    "        \n",
    "    end\n",
    "    \n",
    "    return J;\n",
    "end\n",
    "\n",
    "#Set up and solve nonlinear optimization problem\n",
    "using Optim\n",
    "f(x) = lsobj2(x, t_samp, dt, xinterp, hub_soln, yhist);\n",
    "od = OnceDifferentiable(f, xnode[:]; autodiff = :forward);\n",
    "fitresult = optimize(od, xnode[:]+0.1*randn(Nx*N), LBFGS(), Optim.Options(iterations = 2000))"
   ]
  },
  {
   "cell_type": "code",
   "execution_count": null,
   "metadata": {
    "scrolled": false
   },
   "outputs": [],
   "source": [
    "#Calculate and plot position errors in kilometers\n",
    "e = zeros(length(t_samp));\n",
    "xfit = reshape(Optim.minimizer(fitresult),6,length(t_samp));\n",
    "for k = 1:length(t_samp)\n",
    "    e[k] = 1000*norm(xfit[1:3,k] - xnode[1:3,k]);\n",
    "end\n",
    "\n",
    "plot(t_samp,e, xlabel=\"Time (Days)\", ylabel=\"Position Error (km)\")"
   ]
  },
  {
   "cell_type": "code",
   "execution_count": null,
   "metadata": {},
   "outputs": [],
   "source": []
  }
 ],
 "metadata": {
  "kernelspec": {
   "display_name": "Julia 1.0.0",
   "language": "julia",
   "name": "julia-1.0"
  },
  "language_info": {
   "file_extension": ".jl",
   "mimetype": "application/julia",
   "name": "julia",
   "version": "1.0.0"
  }
 },
 "nbformat": 4,
 "nbformat_minor": 2
}
