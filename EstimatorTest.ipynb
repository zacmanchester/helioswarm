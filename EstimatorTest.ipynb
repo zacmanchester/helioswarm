{
 "cells": [
  {
   "cell_type": "code",
   "execution_count": 654,
   "metadata": {
    "scrolled": true
   },
   "outputs": [
    {
     "data": {
      "text/plain": [
       "ephemInterp (generic function with 1 method)"
      ]
     },
     "execution_count": 654,
     "metadata": {},
     "output_type": "execute_result"
    }
   ],
   "source": [
    "using Interpolations\n",
    "\n",
    "function ephemInterp(t,x1,x2,x3,x4,x5,x6)\n",
    "\n",
    "x = [x1[t], x2[t], x3[t], x4[t], x5[t], x6[t]];\n",
    "\n",
    "end"
   ]
  },
  {
   "cell_type": "code",
   "execution_count": 655,
   "metadata": {
    "scrolled": true
   },
   "outputs": [
    {
     "data": {
      "text/plain": [
       "dynamics (generic function with 1 method)"
      ]
     },
     "execution_count": 655,
     "metadata": {},
     "output_type": "execute_result"
    }
   ],
   "source": [
    "function dynamics(xdot,x,ephem,t)\n",
    "\n",
    "#Gravitational parameters (GM) in 1000*km^3/day^2\n",
    "mu_s = 1.3271244004193938e11*((60*60*24)^2/(1000^3));\n",
    "mu_e = 398600.440*((60*60*24)^2/(1000^3));\n",
    "mu_m = 4902.80007*((60*60*24)^2/(1000^3));\n",
    "#J2 = 1.08263e-3; %J2 spherical harmonic coefficient\n",
    "#Re = 6378.1363/1000; %1000*km\n",
    "\n",
    "rsm = ephemInterp(t,ephem[1],ephem[2],ephem[3],ephem[4],ephem[5],ephem[6]);\n",
    "r_sun = rsm[1:3];\n",
    "r_moon = rsm[4:6];\n",
    "\n",
    "r = x[1:3];\n",
    "rmag = sqrt.(r'*r);\n",
    "rm = r-r_moon;\n",
    "rmmag = sqrt.(rm'*rm);\n",
    "rs = r-r_sun;\n",
    "rsmag = sqrt.(rs'*rs);\n",
    "rfmag = sqrt.(r_sun'*r_sun);\n",
    "\n",
    "v = x[4:6];\n",
    "\n",
    "a_earth = -mu_e*r/(rmag^3);\n",
    "a_moon = -mu_m*rm/(rmmag^3);\n",
    "a_sun = -mu_s*rs/(rsmag^3);\n",
    "a_frame = -mu_s*r_sun/(rfmag^3);\n",
    "\n",
    "a = a_earth + a_moon + a_sun + a_frame;\n",
    "\n",
    "xdot[1:3] = v;\n",
    "xdot[4:6] = a;\n",
    "\n",
    "#da_earth = -(mu_e/(rmag^3))*eye(3) + (3*mu_e/(rmag^5))*(r*r');\n",
    "#da_moon = -(mu_m/(rmmag^3))*eye(3) + (3*mu_m/(rmmag^5))*(rm*rm');\n",
    "#da_sun = -(mu_s/(rsmag^3))*eye(3) + (3*mu_s/(rsmag^5))*(rs*rs');\n",
    "#da = da_earth + da_moon + da_sun;\n",
    "    \n",
    "#A = [zeros(3) eye(3); da  zeros(3)];\n",
    "\n",
    "#return (xdot, A)\n",
    "    \n",
    "end"
   ]
  },
  {
   "cell_type": "code",
   "execution_count": 656,
   "metadata": {
    "scrolled": true
   },
   "outputs": [
    {
     "data": {
      "text/plain": [
       "readEphemData (generic function with 1 method)"
      ]
     },
     "execution_count": 656,
     "metadata": {},
     "output_type": "execute_result"
    }
   ],
   "source": [
    "using CSV\n",
    "\n",
    "function readEphemData(filename)\n",
    "Data = CSV.read(filename);\n",
    "t = Data[1][:]-Data[1][1]; #time in days\n",
    "r1 = convert(Array{Float64},Data[3]); #km\n",
    "r2 = convert(Array{Float64},Data[4]);\n",
    "r3 = convert(Array{Float64},Data[5]);\n",
    "v1 = convert(Array{Float64},Data[6]); #km/s\n",
    "v2 = convert(Array{Float64},Data[7]);\n",
    "v3 = convert(Array{Float64},Data[8]);\n",
    "\n",
    "return (t, [r1 r2 r3 v1 v2 v3]');\n",
    "end"
   ]
  },
  {
   "cell_type": "code",
   "execution_count": 657,
   "metadata": {
    "scrolled": true
   },
   "outputs": [
    {
     "data": {
      "text/plain": [
       "rot3 (generic function with 1 method)"
      ]
     },
     "execution_count": 657,
     "metadata": {},
     "output_type": "execute_result"
    }
   ],
   "source": [
    "function coe2rv(p,ecc,incl,omega,argp,nu);\n",
    "mu_e = 398600.440;\n",
    "small = 0.00000001;\n",
    "\n",
    "#if ( ecc < small )\n",
    "#    if (incl<small) | ( abs(incl-pi)< small )\n",
    "#        argp = 0.0;\n",
    "#        omega= 0.0;\n",
    "#        nu   = truelon;\n",
    "#    else\n",
    "#        argp= 0.0;\n",
    "#        nu  = arglat;\n",
    "#    end\n",
    "#else\n",
    "#    if ( ( incl<small) | (abs(incl-pi)<small) )\n",
    "#        argp = lonper;\n",
    "#        omega= 0.0;\n",
    "#    end\n",
    "#end\n",
    "\n",
    "cosnu= cos(nu);\n",
    "sinnu= sin(nu);\n",
    "temp = p / (1.0  + ecc*cosnu);\n",
    "rpqw = [temp*cosnu, temp*sinnu, 0.0];\n",
    "if ( abs(p) < 0.0001)\n",
    "    p= 0.0001;\n",
    "end\n",
    "vpqw = [-sinnu*sqrt(mu_e)/sqrt(p), (ecc + cosnu)*sqrt(mu_e)/sqrt(p), 0.0];\n",
    "\n",
    "tempvec = rot3(rpqw, -argp);\n",
    "tempvec = rot1(tempvec, -incl);\n",
    "r = rot3(tempvec, -omega);\n",
    "\n",
    "tempvec = rot3(vpqw, -argp);\n",
    "tempvec = rot1(tempvec, -incl);\n",
    "v = rot3(tempvec, -omega);\n",
    "\n",
    "return (r, v);\n",
    "end\n",
    "\n",
    "function rot1(vec, xval)\n",
    "temp= vec[3];\n",
    "c= cos(xval);\n",
    "s= sin(xval);\n",
    "\n",
    "return [vec[1], c*vec[2] + s*temp, c*vec[3] - s*vec[2]];\n",
    "end\n",
    "\n",
    "function rot3(vec, xval)\n",
    "temp= vec[2];\n",
    "c= cos(xval);\n",
    "s= sin(xval);\n",
    "    \n",
    "return [c*vec[1] + s*temp, c*vec[2] - s*vec[1], vec[3]];\n",
    "end"
   ]
  },
  {
   "cell_type": "code",
   "execution_count": 658,
   "metadata": {
    "scrolled": false
   },
   "outputs": [
    {
     "data": {
      "application/vnd.plotly.v1+json": {
       "data": [
        {
         "colorbar": {
          "title": ""
         },
         "hoverinfo": "text",
         "legendgroup": "y1",
         "line": {
          "color": "rgba(0, 154, 250, 1.000)",
          "dash": "solid",
          "shape": "linear",
          "width": 1
         },
         "mode": "lines",
         "name": "y1",
         "showlegend": true,
         "text": [
          null,
          null,
          null,
          null,
          null,
          null,
          null,
          null,
          null,
          null,
          null,
          null,
          null,
          null,
          null
         ],
         "type": "scatter3d",
         "x": [
          30.508327144851723,
          102.28857052396734,
          86.68410570069442,
          47.51082451290657,
          1.818469348553705,
          -44.45746942380313,
          -88.3538386386943,
          -127.84642358504311,
          -161.09481413083563,
          -185.9858699652852,
          -199.62779659399865,
          -197.44781226884515,
          -171.05009257411214,
          -102.21355353596272,
          33.786464028484524
         ],
         "xaxis": "x1",
         "y": [
          -59.902788638150255,
          109.54730622519648,
          214.25595459971655,
          267.40936751391513,
          288.36139231195875,
          286.6546731559355,
          267.5952133525667,
          234.49743294112707,
          189.66650885784586,
          134.94498653837582,
          72.18746372578555,
          4.048560295687957,
          -63.75508916250807,
          -112.52444440653245,
          -59.958390739058714
         ],
         "yaxis": "y1",
         "z": [
          -71.16771842923228,
          -46.87581223606463,
          35.148215670041075,
          111.53153531728209,
          175.11097072578156,
          225.13237036219144,
          261.56940063965453,
          284.23399138548285,
          292.54349627384,
          285.3586394303104,
          260.7325163023625,
          215.43604561919273,
          144.08587217003688,
          38.972378844327004,
          -74.26762746031636
         ]
        },
        {
         "colorbar": {
          "title": ""
         },
         "hoverinfo": "text",
         "legendgroup": "y2",
         "line": {
          "color": "rgba(227, 111, 71, 1.000)",
          "dash": "solid",
          "shape": "linear",
          "width": 1
         },
         "mode": "lines",
         "name": "y2",
         "showlegend": true,
         "text": [
          null,
          null,
          null,
          null,
          null,
          null,
          null,
          null,
          null,
          null,
          null,
          null,
          null,
          null,
          null
         ],
         "type": "scatter3d",
         "x": [
          30.50831956122237,
          102.30103334259982,
          86.72013069013263,
          47.567693192475964,
          1.8912762313907105,
          -44.37431516088511,
          -88.26667238823222,
          -127.76274388490586,
          -161.0240217985098,
          -185.94059170223184,
          -199.62650295194496,
          -197.52071647675717,
          -171.25471609057863,
          -102.67758174614387,
          33.12730104946901
         ],
         "xaxis": "x1",
         "y": [
          -59.900326863069346,
          109.5461620783438,
          214.26609229343617,
          267.4412911008306,
          288.4210453875142,
          286.7460241130364,
          267.7211296644641,
          234.65994098230823,
          189.86669210502438,
          135.18240763975422,
          72.45850165584096,
          4.341405989463844,
          -63.47891158315538,
          -112.42545775797886,
          -60.64639698105213
         ],
         "yaxis": "y1",
         "z": [
          -71.17553212874517,
          -46.89102238589042,
          35.12571633628626,
          111.50880489273332,
          175.09470794716034,
          225.129081149445,
          261.5859014896911,
          284.2779279642767,
          292.6240007555694,
          285.4873261455589,
          260.92518777858425,
          215.71582038276105,
          144.4882455001428,
          39.5314937264226,
          -74.0026703655131
         ]
        },
        {
         "colorbar": {
          "title": ""
         },
         "hoverinfo": "text",
         "legendgroup": "y3",
         "marker": {
          "color": "rgba(0, 128, 0, 1.000)",
          "line": {
           "color": "rgba(0, 0, 0, 1.000)",
           "width": 1
          },
          "size": 8,
          "symbol": "circle"
         },
         "mode": "markers",
         "name": "y3",
         "showlegend": true,
         "text": [
          null
         ],
         "type": "scatter3d",
         "x": [
          0
         ],
         "xaxis": "x1",
         "y": [
          0
         ],
         "yaxis": "y1",
         "z": [
          0
         ]
        }
       ],
       "layout": {
        "annotations": [],
        "height": 400,
        "legend": {
         "bgcolor": "rgba(255, 255, 255, 1.000)",
         "bordercolor": "rgba(0, 0, 0, 1.000)",
         "font": {
          "color": "rgba(0, 0, 0, 1.000)",
          "family": "sans-serif",
          "size": 11
         },
         "tracegroupgap": 0,
         "x": 1,
         "y": 1
        },
        "margin": {
         "b": 20,
         "l": 0,
         "r": 0,
         "t": 20
        },
        "paper_bgcolor": "rgba(255, 255, 255, 1.000)",
        "plot_bgcolor": "rgba(255, 255, 255, 1.000)",
        "scene": {
         "camera": {
          "eye": {
           "x": 1.12583302491977,
           "y": -1.9499999999999997,
           "z": 1.3
          }
         },
         "xaxis": {
          "anchor": "y1",
          "domain": [
           0.0658209390492855,
           0.9934383202099738
          ],
          "gridcolor": "rgba(0, 0, 0, 0.100)",
          "gridwidth": 0.5,
          "linecolor": "rgba(0, 0, 0, 1.000)",
          "mirror": false,
          "range": [
           -208.6856614920966,
           111.35889824069778
          ],
          "showgrid": true,
          "showline": false,
          "showticklabels": false,
          "tickangle": 0,
          "tickcolor": "rgba(0, 0, 0, 0.000)",
          "tickfont": {
           "color": "rgba(0, 0, 0, 1.000)",
           "family": "sans-serif",
           "size": 11
          },
          "tickmode": "array",
          "ticks": "inside",
          "ticktext": [
           "-200",
           "-100",
           "0",
           "100"
          ],
          "tickvals": [
           -200,
           -100,
           0,
           100
          ],
          "title": "",
          "titlefont": {
           "color": "rgba(0, 0, 0, 1.000)",
           "family": "sans-serif",
           "size": 15
          },
          "type": "-",
          "visible": true,
          "zeroline": false,
          "zerolinecolor": "rgba(0, 0, 0, 1.000)"
         },
         "yaxis": {
          "anchor": "x1",
          "domain": [
           0.03762029746281716,
           0.9901574803149606
          ],
          "gridcolor": "rgba(0, 0, 0, 0.100)",
          "gridwidth": 0.5,
          "linecolor": "rgba(0, 0, 0, 1.000)",
          "mirror": false,
          "range": [
           -124.55280910035385,
           300.4494100813356
          ],
          "showgrid": true,
          "showline": false,
          "showticklabels": false,
          "tickangle": 0,
          "tickcolor": "rgba(0, 0, 0, 0.000)",
          "tickfont": {
           "color": "rgba(0, 0, 0, 1.000)",
           "family": "sans-serif",
           "size": 11
          },
          "tickmode": "array",
          "ticks": "inside",
          "ticktext": [
           "-100",
           "0",
           "100",
           "200",
           "300"
          ],
          "tickvals": [
           -100,
           0,
           100,
           200,
           300
          ],
          "title": "",
          "titlefont": {
           "color": "rgba(0, 0, 0, 1.000)",
           "family": "sans-serif",
           "size": 15
          },
          "type": "-",
          "visible": true,
          "zeroline": false,
          "zerolinecolor": "rgba(0, 0, 0, 1.000)"
         },
         "zaxis": {
          "gridcolor": "rgba(0, 0, 0, 0.100)",
          "gridwidth": 0.5,
          "linecolor": "rgba(0, 0, 0, 1.000)",
          "mirror": false,
          "range": [
           -85.27437630679293,
           303.63074960204597
          ],
          "showgrid": true,
          "showline": false,
          "showticklabels": false,
          "tickangle": 0,
          "tickcolor": "rgba(0, 0, 0, 0.000)",
          "tickfont": {
           "color": "rgba(0, 0, 0, 1.000)",
           "family": "sans-serif",
           "size": 11
          },
          "tickmode": "array",
          "ticks": "inside",
          "ticktext": [
           "0",
           "100",
           "200",
           "300"
          ],
          "tickvals": [
           0,
           100,
           200,
           300
          ],
          "title": "",
          "titlefont": {
           "color": "rgba(0, 0, 0, 1.000)",
           "family": "sans-serif",
           "size": 15
          },
          "type": "-",
          "visible": true,
          "zeroline": false,
          "zerolinecolor": "rgba(0, 0, 0, 1.000)"
         }
        },
        "showlegend": true,
        "width": 600
       }
      },
      "text/html": [
       "<script src=\"file:///Users/zacman/.julia/v0.6/Plots/src/backends/../../deps/plotly-latest.min.js\"></script>    <div id=\"32a5bfc6-4320-4639-9934-9f45596e792b\" style=\"width:600px;height:400px;\"></div>\n",
       "    <script>\n",
       "    PLOT = document.getElementById('32a5bfc6-4320-4639-9934-9f45596e792b');\n",
       "    Plotly.plot(PLOT, [{\"xaxis\":\"x1\",\"colorbar\":{\"title\":\"\"},\"yaxis\":\"y1\",\"text\":[null,null,null,null,null,null,null,null,null,null,null,null,null,null,null],\"x\":[30.508327144851723,102.28857052396734,86.68410570069442,47.51082451290657,1.818469348553705,-44.45746942380313,-88.3538386386943,-127.84642358504311,-161.09481413083563,-185.9858699652852,-199.62779659399865,-197.44781226884515,-171.05009257411214,-102.21355353596272,33.786464028484524],\"showlegend\":true,\"mode\":\"lines\",\"name\":\"y1\",\"legendgroup\":\"y1\",\"z\":[-71.16771842923228,-46.87581223606463,35.148215670041075,111.53153531728209,175.11097072578156,225.13237036219144,261.56940063965453,284.23399138548285,292.54349627384,285.3586394303104,260.7325163023625,215.43604561919273,144.08587217003688,38.972378844327004,-74.26762746031636],\"line\":{\"color\":\"rgba(0, 154, 250, 1.000)\",\"shape\":\"linear\",\"dash\":\"solid\",\"width\":1},\"y\":[-59.902788638150255,109.54730622519648,214.25595459971655,267.40936751391513,288.36139231195875,286.6546731559355,267.5952133525667,234.49743294112707,189.66650885784586,134.94498653837582,72.18746372578555,4.048560295687957,-63.75508916250807,-112.52444440653245,-59.958390739058714],\"type\":\"scatter3d\",\"hoverinfo\":\"text\"},{\"xaxis\":\"x1\",\"colorbar\":{\"title\":\"\"},\"yaxis\":\"y1\",\"text\":[null,null,null,null,null,null,null,null,null,null,null,null,null,null,null],\"x\":[30.50831956122237,102.30103334259982,86.72013069013263,47.567693192475964,1.8912762313907105,-44.37431516088511,-88.26667238823222,-127.76274388490586,-161.0240217985098,-185.94059170223184,-199.62650295194496,-197.52071647675717,-171.25471609057863,-102.67758174614387,33.12730104946901],\"showlegend\":true,\"mode\":\"lines\",\"name\":\"y2\",\"legendgroup\":\"y2\",\"z\":[-71.17553212874517,-46.89102238589042,35.12571633628626,111.50880489273332,175.09470794716034,225.129081149445,261.5859014896911,284.2779279642767,292.6240007555694,285.4873261455589,260.92518777858425,215.71582038276105,144.4882455001428,39.5314937264226,-74.0026703655131],\"line\":{\"color\":\"rgba(227, 111, 71, 1.000)\",\"shape\":\"linear\",\"dash\":\"solid\",\"width\":1},\"y\":[-59.900326863069346,109.5461620783438,214.26609229343617,267.4412911008306,288.4210453875142,286.7460241130364,267.7211296644641,234.65994098230823,189.86669210502438,135.18240763975422,72.45850165584096,4.341405989463844,-63.47891158315538,-112.42545775797886,-60.64639698105213],\"type\":\"scatter3d\",\"hoverinfo\":\"text\"},{\"xaxis\":\"x1\",\"colorbar\":{\"title\":\"\"},\"yaxis\":\"y1\",\"text\":[null],\"x\":[0.0],\"showlegend\":true,\"mode\":\"markers\",\"name\":\"y3\",\"legendgroup\":\"y3\",\"z\":[0.0],\"marker\":{\"symbol\":\"circle\",\"color\":\"rgba(0, 128, 0, 1.000)\",\"line\":{\"color\":\"rgba(0, 0, 0, 1.000)\",\"width\":1},\"size\":8},\"y\":[0.0],\"type\":\"scatter3d\",\"hoverinfo\":\"text\"}], {\"showlegend\":true,\"paper_bgcolor\":\"rgba(255, 255, 255, 1.000)\",\"annotations\":[],\"height\":400,\"margin\":{\"l\":0,\"b\":20,\"r\":0,\"t\":20},\"plot_bgcolor\":\"rgba(255, 255, 255, 1.000)\",\"scene\":{\"camera\":{\"eye\":{\"y\":-1.9499999999999997,\"z\":1.3,\"x\":1.12583302491977}},\"xaxis\":{\"showticklabels\":false,\"gridwidth\":0.5,\"tickvals\":[-200.0,-100.0,0.0,100.0],\"visible\":true,\"ticks\":\"inside\",\"range\":[-208.6856614920966,111.35889824069778],\"domain\":[0.0658209390492855,0.9934383202099738],\"tickmode\":\"array\",\"linecolor\":\"rgba(0, 0, 0, 1.000)\",\"showgrid\":true,\"title\":\"\",\"mirror\":false,\"tickangle\":0,\"showline\":false,\"gridcolor\":\"rgba(0, 0, 0, 0.100)\",\"titlefont\":{\"color\":\"rgba(0, 0, 0, 1.000)\",\"family\":\"sans-serif\",\"size\":15},\"tickcolor\":\"rgba(0, 0, 0, 0.000)\",\"ticktext\":[\"-200\",\"-100\",\"0\",\"100\"],\"zeroline\":false,\"type\":\"-\",\"tickfont\":{\"color\":\"rgba(0, 0, 0, 1.000)\",\"family\":\"sans-serif\",\"size\":11},\"zerolinecolor\":\"rgba(0, 0, 0, 1.000)\",\"anchor\":\"y1\"},\"yaxis\":{\"showticklabels\":false,\"gridwidth\":0.5,\"tickvals\":[-100.0,0.0,100.0,200.0,300.0],\"visible\":true,\"ticks\":\"inside\",\"range\":[-124.55280910035385,300.4494100813356],\"domain\":[0.03762029746281716,0.9901574803149606],\"tickmode\":\"array\",\"linecolor\":\"rgba(0, 0, 0, 1.000)\",\"showgrid\":true,\"title\":\"\",\"mirror\":false,\"tickangle\":0,\"showline\":false,\"gridcolor\":\"rgba(0, 0, 0, 0.100)\",\"titlefont\":{\"color\":\"rgba(0, 0, 0, 1.000)\",\"family\":\"sans-serif\",\"size\":15},\"tickcolor\":\"rgba(0, 0, 0, 0.000)\",\"ticktext\":[\"-100\",\"0\",\"100\",\"200\",\"300\"],\"zeroline\":false,\"type\":\"-\",\"tickfont\":{\"color\":\"rgba(0, 0, 0, 1.000)\",\"family\":\"sans-serif\",\"size\":11},\"zerolinecolor\":\"rgba(0, 0, 0, 1.000)\",\"anchor\":\"x1\"},\"zaxis\":{\"showticklabels\":false,\"gridwidth\":0.5,\"tickvals\":[0.0,100.0,200.0,300.0],\"visible\":true,\"ticks\":\"inside\",\"range\":[-85.27437630679293,303.63074960204597],\"tickmode\":\"array\",\"linecolor\":\"rgba(0, 0, 0, 1.000)\",\"showgrid\":true,\"title\":\"\",\"mirror\":false,\"tickangle\":0,\"showline\":false,\"gridcolor\":\"rgba(0, 0, 0, 0.100)\",\"titlefont\":{\"color\":\"rgba(0, 0, 0, 1.000)\",\"family\":\"sans-serif\",\"size\":15},\"tickcolor\":\"rgba(0, 0, 0, 0.000)\",\"ticktext\":[\"0\",\"100\",\"200\",\"300\"],\"zeroline\":false,\"type\":\"-\",\"tickfont\":{\"color\":\"rgba(0, 0, 0, 1.000)\",\"family\":\"sans-serif\",\"size\":11},\"zerolinecolor\":\"rgba(0, 0, 0, 1.000)\"}},\"legend\":{\"tracegroupgap\":0,\"bordercolor\":\"rgba(0, 0, 0, 1.000)\",\"bgcolor\":\"rgba(255, 255, 255, 1.000)\",\"font\":{\"color\":\"rgba(0, 0, 0, 1.000)\",\"family\":\"sans-serif\",\"size\":11},\"y\":1.0,\"x\":1.0},\"width\":600});\n",
       "    </script>\n"
      ]
     },
     "execution_count": 658,
     "metadata": {},
     "output_type": "execute_result"
    }
   ],
   "source": [
    "(t_sun,x_sun) = readEphemData(\"sun_ephem.csv\");\n",
    "(t_moon,x_moon) = readEphemData(\"moon_ephem.csv\");\n",
    "\n",
    "t_ephem = t_sun;\n",
    "x_ephem = [x_sun[1:3,:]/1000; x_moon[1:3,:]/1000]; #put distance in 1000*km\n",
    "\n",
    "xi1 = interpolate((t_ephem,), x_ephem[1,:], Gridded(Linear()));\n",
    "xi2 = interpolate((t_ephem,), x_ephem[2,:], Gridded(Linear()));\n",
    "xi3 = interpolate((t_ephem,), x_ephem[3,:], Gridded(Linear()));\n",
    "xi4 = interpolate((t_ephem,), x_ephem[4,:], Gridded(Linear()));\n",
    "xi5 = interpolate((t_ephem,), x_ephem[5,:], Gridded(Linear()));\n",
    "xi6 = interpolate((t_ephem,), x_ephem[6,:], Gridded(Linear()));\n",
    "\n",
    "xinterp = (xi1, xi2, xi3, xi4, xi5, xi6);\n",
    "\n",
    "#Hub Initial Conditions\n",
    "# 25 Jan 2024 22:30:25.520\n",
    "a = 243729.554542; #km\n",
    "e = 0.598335;\n",
    "i = 51.975*(pi/180);\n",
    "RAAN = 61.110*(pi/180);\n",
    "argp = 247.345*(pi/180);\n",
    "nu = 0.0; #true anomaly\n",
    "p = a*(1-e*e); #semilatus rectum\n",
    "\n",
    "#Convert to ECI state vector\n",
    "(r0,v0) = coe2rv(p,e,i,RAAN,argp,nu);\n",
    "\n",
    "#Convert units to 1000*km and days\n",
    "x0hub = [r0/1000; v0*(24*60*60/1000)];\n",
    "t0 = 25 + 22/24 + 30/(24*60) + 25.52/(24*60*60);\n",
    "\n",
    "dt = 24/24; #once every 24 hours\n",
    "t_samp = t0:dt:(t0+14);\n",
    "\n",
    "Nx = 6;\n",
    "N = length(t_samp);\n",
    "\n",
    "x0node = diagm(ones(Nx)+[1e-4*randn(3); 1e-5*randn(3)])*x0hub;\n",
    "\n",
    "using DifferentialEquations\n",
    "hub_prob = ODEProblem(dynamics,x0hub,(t_samp[1], t_samp[end]),xinterp);\n",
    "hub_soln = solve(hub_prob,Tsit5(),reltol=1e-9,abstol=1e-9,saveat=dt);\n",
    "node_prob = ODEProblem(dynamics,x0node,(t_samp[1], t_samp[end]),xinterp);\n",
    "node_soln = solve(node_prob,Tsit5(),reltol=1e-9,abstol=1e-9,saveat=dt);\n",
    "\n",
    "using Plots\n",
    "plotly();\n",
    "plot(hub_soln[1,:],hub_soln[2,:],hub_soln[3,:],xshowaxis=false,yshowaxis=false,zshowaxis=false);\n",
    "plot!(node_soln[1,:],node_soln[2,:],node_soln[3,:],xshowaxis=false,yshowaxis=false,zshowaxis=false);\n",
    "scatter!([0.0],[0.0],[0.0],mcolor=:green)"
   ]
  },
  {
   "cell_type": "code",
   "execution_count": 659,
   "metadata": {
    "scrolled": false
   },
   "outputs": [
    {
     "data": {
      "application/vnd.plotly.v1+json": {
       "data": [
        {
         "colorbar": {
          "title": ""
         },
         "hoverinfo": "text",
         "legendgroup": "y1",
         "line": {
          "color": "rgba(0, 154, 250, 1.000)",
          "dash": "solid",
          "shape": "linear",
          "width": 1
         },
         "mode": "lines",
         "name": "y1",
         "showlegend": true,
         "text": [
          null,
          null,
          null,
          null,
          null,
          null,
          null,
          null,
          null,
          null,
          null,
          null,
          null,
          null,
          null
         ],
         "type": "scatter",
         "x": [
          25.93779537037037,
          26.93779537037037,
          27.93779537037037,
          28.93779537037037,
          29.93779537037037,
          30.93779537037037,
          31.93779537037037,
          32.93779537037037,
          33.93779537037037,
          34.93779537037037,
          35.93779537037037,
          36.93779537037037,
          37.93779537037037,
          38.93779537037037,
          39.93779537037037
         ],
         "xaxis": "x1",
         "y": [
          8.192331422631085,
          19.69719721203317,
          43.66683773056247,
          69.06398712558924,
          95.51863472719694,
          123.57365303812357,
          154.02970776247233,
          187.99356004849494,
          227.0811712705176,
          273.8232480384095,
          332.54402834504225,
          411.5185806547165,
          529.1966889623801,
          733.3007485449434,
          988.9644503282666
         ],
         "yaxis": "y1"
        }
       ],
       "layout": {
        "annotations": [],
        "height": 400,
        "legend": {
         "bgcolor": "rgba(255, 255, 255, 1.000)",
         "bordercolor": "rgba(0, 0, 0, 1.000)",
         "font": {
          "color": "rgba(0, 0, 0, 1.000)",
          "family": "sans-serif",
          "size": 11
         },
         "tracegroupgap": 0,
         "x": 1,
         "y": 1
        },
        "margin": {
         "b": 20,
         "l": 0,
         "r": 0,
         "t": 20
        },
        "paper_bgcolor": "rgba(255, 255, 255, 1.000)",
        "plot_bgcolor": "rgba(255, 255, 255, 1.000)",
        "showlegend": true,
        "width": 600,
        "xaxis": {
         "anchor": "y1",
         "domain": [
          0.0658209390492855,
          0.9934383202099738
         ],
         "gridcolor": "rgba(0, 0, 0, 0.100)",
         "gridwidth": 0.5,
         "linecolor": "rgba(0, 0, 0, 1.000)",
         "mirror": false,
         "range": [
          25.517795370370372,
          40.35779537037037
         ],
         "showgrid": true,
         "showline": true,
         "showticklabels": true,
         "tickangle": 0,
         "tickcolor": "rgb(0, 0, 0)",
         "tickfont": {
          "color": "rgba(0, 0, 0, 1.000)",
          "family": "sans-serif",
          "size": 11
         },
         "tickmode": "array",
         "ticks": "inside",
         "ticktext": [
          "27.5",
          "30.0",
          "32.5",
          "35.0",
          "37.5",
          "40.0"
         ],
         "tickvals": [
          27.5,
          30,
          32.5,
          35,
          37.5,
          40
         ],
         "title": "",
         "titlefont": {
          "color": "rgba(0, 0, 0, 1.000)",
          "family": "sans-serif",
          "size": 15
         },
         "type": "-",
         "visible": true,
         "zeroline": false,
         "zerolinecolor": "rgba(0, 0, 0, 1.000)"
        },
        "yaxis": {
         "anchor": "x1",
         "domain": [
          0.03762029746281716,
          0.9901574803149606
         ],
         "gridcolor": "rgba(0, 0, 0, 0.100)",
         "gridwidth": 0.5,
         "linecolor": "rgba(0, 0, 0, 1.000)",
         "mirror": false,
         "range": [
          -21.230832144537978,
          1018.3876138954356
         ],
         "showgrid": true,
         "showline": true,
         "showticklabels": true,
         "tickangle": 0,
         "tickcolor": "rgb(0, 0, 0)",
         "tickfont": {
          "color": "rgba(0, 0, 0, 1.000)",
          "family": "sans-serif",
          "size": 11
         },
         "tickmode": "array",
         "ticks": "inside",
         "ticktext": [
          "0",
          "250",
          "500",
          "750",
          "1000"
         ],
         "tickvals": [
          0,
          250,
          500,
          750,
          1000
         ],
         "title": "",
         "titlefont": {
          "color": "rgba(0, 0, 0, 1.000)",
          "family": "sans-serif",
          "size": 15
         },
         "type": "-",
         "visible": true,
         "zeroline": false,
         "zerolinecolor": "rgba(0, 0, 0, 1.000)"
        }
       }
      },
      "text/html": [
       "<script src=\"file:///Users/zacman/.julia/v0.6/Plots/src/backends/../../deps/plotly-latest.min.js\"></script>    <div id=\"c69fc478-16ce-4552-a9f5-eda5d9c106f6\" style=\"width:600px;height:400px;\"></div>\n",
       "    <script>\n",
       "    PLOT = document.getElementById('c69fc478-16ce-4552-a9f5-eda5d9c106f6');\n",
       "    Plotly.plot(PLOT, [{\"xaxis\":\"x1\",\"colorbar\":{\"title\":\"\"},\"yaxis\":\"y1\",\"text\":[null,null,null,null,null,null,null,null,null,null,null,null,null,null,null],\"x\":[25.93779537037037,26.93779537037037,27.93779537037037,28.93779537037037,29.93779537037037,30.93779537037037,31.93779537037037,32.93779537037037,33.93779537037037,34.93779537037037,35.93779537037037,36.93779537037037,37.93779537037037,38.93779537037037,39.93779537037037],\"showlegend\":true,\"mode\":\"lines\",\"name\":\"y1\",\"legendgroup\":\"y1\",\"line\":{\"color\":\"rgba(0, 154, 250, 1.000)\",\"shape\":\"linear\",\"dash\":\"solid\",\"width\":1},\"y\":[8.192331422631085,19.69719721203317,43.66683773056247,69.06398712558924,95.51863472719694,123.57365303812357,154.02970776247233,187.99356004849494,227.0811712705176,273.8232480384095,332.54402834504225,411.5185806547165,529.1966889623801,733.3007485449434,988.9644503282666],\"type\":\"scatter\",\"hoverinfo\":\"text\"}], {\"showlegend\":true,\"xaxis\":{\"showticklabels\":true,\"gridwidth\":0.5,\"tickvals\":[27.5,30.0,32.5,35.0,37.5,40.0],\"visible\":true,\"ticks\":\"inside\",\"range\":[25.517795370370372,40.35779537037037],\"domain\":[0.0658209390492855,0.9934383202099738],\"tickmode\":\"array\",\"linecolor\":\"rgba(0, 0, 0, 1.000)\",\"showgrid\":true,\"title\":\"\",\"mirror\":false,\"tickangle\":0,\"showline\":true,\"gridcolor\":\"rgba(0, 0, 0, 0.100)\",\"titlefont\":{\"color\":\"rgba(0, 0, 0, 1.000)\",\"family\":\"sans-serif\",\"size\":15},\"tickcolor\":\"rgb(0, 0, 0)\",\"ticktext\":[\"27.5\",\"30.0\",\"32.5\",\"35.0\",\"37.5\",\"40.0\"],\"zeroline\":false,\"type\":\"-\",\"tickfont\":{\"color\":\"rgba(0, 0, 0, 1.000)\",\"family\":\"sans-serif\",\"size\":11},\"zerolinecolor\":\"rgba(0, 0, 0, 1.000)\",\"anchor\":\"y1\"},\"paper_bgcolor\":\"rgba(255, 255, 255, 1.000)\",\"annotations\":[],\"height\":400,\"margin\":{\"l\":0,\"b\":20,\"r\":0,\"t\":20},\"plot_bgcolor\":\"rgba(255, 255, 255, 1.000)\",\"yaxis\":{\"showticklabels\":true,\"gridwidth\":0.5,\"tickvals\":[0.0,250.0,500.0,750.0,1000.0],\"visible\":true,\"ticks\":\"inside\",\"range\":[-21.230832144537978,1018.3876138954356],\"domain\":[0.03762029746281716,0.9901574803149606],\"tickmode\":\"array\",\"linecolor\":\"rgba(0, 0, 0, 1.000)\",\"showgrid\":true,\"title\":\"\",\"mirror\":false,\"tickangle\":0,\"showline\":true,\"gridcolor\":\"rgba(0, 0, 0, 0.100)\",\"titlefont\":{\"color\":\"rgba(0, 0, 0, 1.000)\",\"family\":\"sans-serif\",\"size\":15},\"tickcolor\":\"rgb(0, 0, 0)\",\"ticktext\":[\"0\",\"250\",\"500\",\"750\",\"1000\"],\"zeroline\":false,\"type\":\"-\",\"tickfont\":{\"color\":\"rgba(0, 0, 0, 1.000)\",\"family\":\"sans-serif\",\"size\":11},\"zerolinecolor\":\"rgba(0, 0, 0, 1.000)\",\"anchor\":\"x1\"},\"legend\":{\"tracegroupgap\":0,\"bordercolor\":\"rgba(0, 0, 0, 1.000)\",\"bgcolor\":\"rgba(255, 255, 255, 1.000)\",\"font\":{\"color\":\"rgba(0, 0, 0, 1.000)\",\"family\":\"sans-serif\",\"size\":11},\"y\":1.0,\"x\":1.0},\"width\":600});\n",
       "    </script>\n"
      ]
     },
     "execution_count": 659,
     "metadata": {},
     "output_type": "execute_result"
    }
   ],
   "source": [
    "r = zeros(length(t_samp));\n",
    "for k = 1:length(t_samp)\n",
    "    r[k] = 1000*norm(node_soln[k][1:3] - hub_soln[k][1:3]);\n",
    "end\n",
    "plot(t_samp,r)"
   ]
  },
  {
   "cell_type": "code",
   "execution_count": 660,
   "metadata": {},
   "outputs": [],
   "source": [
    "function observation(xnode,xhub)\n",
    "    y = norm(xnode[1:3]-xhub[1:3]);\n",
    "end\n",
    "\n",
    "yhist = zeros(length(hub_soln),1);\n",
    "xnode = zeros(6,length(node_soln));\n",
    "xhub = zeros(6,length(hub_soln));\n",
    "for k = 1:length(hub_soln)\n",
    "    xhub[:,k] = hub_soln[k];\n",
    "    xnode[:,k] = node_soln[k];\n",
    "    yhist[k] = observation(xnode[:,k], xhub[:,k]);\n",
    "    \n",
    "    yhist[k] += 1e-5*randn(); #Add noise: Std. Dev. = 10m in ranging\n",
    "    xhub[:,k] += [1e-3*randn(3,1); 1e-3*randn(3,1)]; #Add noise: Std. Dev. = 1km in position and about 1 cm/sec in velocity\n",
    "end"
   ]
  },
  {
   "cell_type": "code",
   "execution_count": 662,
   "metadata": {},
   "outputs": [
    {
     "data": {
      "application/vnd.plotly.v1+json": {
       "data": [
        {
         "colorbar": {
          "title": ""
         },
         "hoverinfo": "text",
         "legendgroup": "y1",
         "line": {
          "color": "rgba(0, 154, 250, 1.000)",
          "dash": "solid",
          "shape": "linear",
          "width": 1
         },
         "mode": "lines",
         "name": "y1",
         "showlegend": true,
         "text": [
          null,
          null,
          null,
          null,
          null,
          null,
          null,
          null,
          null,
          null,
          null,
          null,
          null,
          null,
          null
         ],
         "type": "scatter",
         "x": [
          25.93779537037037,
          26.93779537037037,
          27.93779537037037,
          28.93779537037037,
          29.93779537037037,
          30.93779537037037,
          31.93779537037037,
          32.93779537037037,
          33.93779537037037,
          34.93779537037037,
          35.93779537037037,
          36.93779537037037,
          37.93779537037037,
          38.93779537037037,
          39.93779537037037
         ],
         "xaxis": "x1",
         "y": [
          12.45542771862935,
          4.20196557874495,
          3.832504082118303,
          4.992627292639626,
          5.861764065194545,
          6.314931973449059,
          6.413021347380634,
          6.222230510018005,
          5.778534776140324,
          5.1166519432133395,
          4.223056299265082,
          3.052834472427161,
          1.5580743551306155,
          0.4546115374192609,
          2.7421248975946084
         ],
         "yaxis": "y1"
        }
       ],
       "layout": {
        "annotations": [],
        "height": 400,
        "legend": {
         "bgcolor": "rgba(255, 255, 255, 1.000)",
         "bordercolor": "rgba(0, 0, 0, 1.000)",
         "font": {
          "color": "rgba(0, 0, 0, 1.000)",
          "family": "sans-serif",
          "size": 11
         },
         "tracegroupgap": 0,
         "x": 1,
         "y": 1
        },
        "margin": {
         "b": 20,
         "l": 0,
         "r": 0,
         "t": 20
        },
        "paper_bgcolor": "rgba(255, 255, 255, 1.000)",
        "plot_bgcolor": "rgba(255, 255, 255, 1.000)",
        "showlegend": true,
        "width": 600,
        "xaxis": {
         "anchor": "y1",
         "domain": [
          0.0658209390492855,
          0.9934383202099738
         ],
         "gridcolor": "rgba(0, 0, 0, 0.100)",
         "gridwidth": 0.5,
         "linecolor": "rgba(0, 0, 0, 1.000)",
         "mirror": false,
         "range": [
          25.517795370370372,
          40.35779537037037
         ],
         "showgrid": true,
         "showline": true,
         "showticklabels": true,
         "tickangle": 0,
         "tickcolor": "rgb(0, 0, 0)",
         "tickfont": {
          "color": "rgba(0, 0, 0, 1.000)",
          "family": "sans-serif",
          "size": 11
         },
         "tickmode": "array",
         "ticks": "inside",
         "ticktext": [
          "27.5",
          "30.0",
          "32.5",
          "35.0",
          "37.5",
          "40.0"
         ],
         "tickvals": [
          27.5,
          30,
          32.5,
          35,
          37.5,
          40
         ],
         "title": "",
         "titlefont": {
          "color": "rgba(0, 0, 0, 1.000)",
          "family": "sans-serif",
          "size": 15
         },
         "type": "-",
         "visible": true,
         "zeroline": false,
         "zerolinecolor": "rgba(0, 0, 0, 1.000)"
        },
        "yaxis": {
         "anchor": "x1",
         "domain": [
          0.03762029746281716,
          0.9901574803149606
         ],
         "gridcolor": "rgba(0, 0, 0, 0.100)",
         "gridwidth": 0.5,
         "linecolor": "rgba(0, 0, 0, 1.000)",
         "mirror": false,
         "range": [
          0.09458705198295825,
          12.815452204065652
         ],
         "showgrid": true,
         "showline": true,
         "showticklabels": true,
         "tickangle": 0,
         "tickcolor": "rgb(0, 0, 0)",
         "tickfont": {
          "color": "rgba(0, 0, 0, 1.000)",
          "family": "sans-serif",
          "size": 11
         },
         "tickmode": "array",
         "ticks": "inside",
         "ticktext": [
          "2.5",
          "5.0",
          "7.5",
          "10.0",
          "12.5"
         ],
         "tickvals": [
          2.5,
          5,
          7.5,
          10,
          12.5
         ],
         "title": "",
         "titlefont": {
          "color": "rgba(0, 0, 0, 1.000)",
          "family": "sans-serif",
          "size": 15
         },
         "type": "-",
         "visible": true,
         "zeroline": false,
         "zerolinecolor": "rgba(0, 0, 0, 1.000)"
        }
       }
      },
      "text/html": [
       "<script src=\"file:///Users/zacman/.julia/v0.6/Plots/src/backends/../../deps/plotly-latest.min.js\"></script>    <div id=\"b7763a25-bd81-4dfb-8fde-6f9bc988a82a\" style=\"width:600px;height:400px;\"></div>\n",
       "    <script>\n",
       "    PLOT = document.getElementById('b7763a25-bd81-4dfb-8fde-6f9bc988a82a');\n",
       "    Plotly.plot(PLOT, [{\"xaxis\":\"x1\",\"colorbar\":{\"title\":\"\"},\"yaxis\":\"y1\",\"text\":[null,null,null,null,null,null,null,null,null,null,null,null,null,null,null],\"x\":[25.93779537037037,26.93779537037037,27.93779537037037,28.93779537037037,29.93779537037037,30.93779537037037,31.93779537037037,32.93779537037037,33.93779537037037,34.93779537037037,35.93779537037037,36.93779537037037,37.93779537037037,38.93779537037037,39.93779537037037],\"showlegend\":true,\"mode\":\"lines\",\"name\":\"y1\",\"legendgroup\":\"y1\",\"line\":{\"color\":\"rgba(0, 154, 250, 1.000)\",\"shape\":\"linear\",\"dash\":\"solid\",\"width\":1},\"y\":[12.45542771862935,4.20196557874495,3.832504082118303,4.992627292639626,5.861764065194545,6.314931973449059,6.413021347380634,6.222230510018005,5.778534776140324,5.1166519432133395,4.223056299265082,3.052834472427161,1.5580743551306155,0.4546115374192609,2.7421248975946084],\"type\":\"scatter\",\"hoverinfo\":\"text\"}], {\"showlegend\":true,\"xaxis\":{\"showticklabels\":true,\"gridwidth\":0.5,\"tickvals\":[27.5,30.0,32.5,35.0,37.5,40.0],\"visible\":true,\"ticks\":\"inside\",\"range\":[25.517795370370372,40.35779537037037],\"domain\":[0.0658209390492855,0.9934383202099738],\"tickmode\":\"array\",\"linecolor\":\"rgba(0, 0, 0, 1.000)\",\"showgrid\":true,\"title\":\"\",\"mirror\":false,\"tickangle\":0,\"showline\":true,\"gridcolor\":\"rgba(0, 0, 0, 0.100)\",\"titlefont\":{\"color\":\"rgba(0, 0, 0, 1.000)\",\"family\":\"sans-serif\",\"size\":15},\"tickcolor\":\"rgb(0, 0, 0)\",\"ticktext\":[\"27.5\",\"30.0\",\"32.5\",\"35.0\",\"37.5\",\"40.0\"],\"zeroline\":false,\"type\":\"-\",\"tickfont\":{\"color\":\"rgba(0, 0, 0, 1.000)\",\"family\":\"sans-serif\",\"size\":11},\"zerolinecolor\":\"rgba(0, 0, 0, 1.000)\",\"anchor\":\"y1\"},\"paper_bgcolor\":\"rgba(255, 255, 255, 1.000)\",\"annotations\":[],\"height\":400,\"margin\":{\"l\":0,\"b\":20,\"r\":0,\"t\":20},\"plot_bgcolor\":\"rgba(255, 255, 255, 1.000)\",\"yaxis\":{\"showticklabels\":true,\"gridwidth\":0.5,\"tickvals\":[2.5,5.0,7.5,10.0,12.5],\"visible\":true,\"ticks\":\"inside\",\"range\":[0.09458705198295825,12.815452204065652],\"domain\":[0.03762029746281716,0.9901574803149606],\"tickmode\":\"array\",\"linecolor\":\"rgba(0, 0, 0, 1.000)\",\"showgrid\":true,\"title\":\"\",\"mirror\":false,\"tickangle\":0,\"showline\":true,\"gridcolor\":\"rgba(0, 0, 0, 0.100)\",\"titlefont\":{\"color\":\"rgba(0, 0, 0, 1.000)\",\"family\":\"sans-serif\",\"size\":15},\"tickcolor\":\"rgb(0, 0, 0)\",\"ticktext\":[\"2.5\",\"5.0\",\"7.5\",\"10.0\",\"12.5\"],\"zeroline\":false,\"type\":\"-\",\"tickfont\":{\"color\":\"rgba(0, 0, 0, 1.000)\",\"family\":\"sans-serif\",\"size\":11},\"zerolinecolor\":\"rgba(0, 0, 0, 1.000)\",\"anchor\":\"x1\"},\"legend\":{\"tracegroupgap\":0,\"bordercolor\":\"rgba(0, 0, 0, 1.000)\",\"bgcolor\":\"rgba(255, 255, 255, 1.000)\",\"font\":{\"color\":\"rgba(0, 0, 0, 1.000)\",\"family\":\"sans-serif\",\"size\":11},\"y\":1.0,\"x\":1.0},\"width\":600});\n",
       "    </script>\n"
      ]
     },
     "execution_count": 662,
     "metadata": {},
     "output_type": "execute_result"
    },
    {
     "name": "stdout",
     "output_type": "stream",
     "text": [
      "elapsed time: 37.899784871 seconds\n"
     ]
    }
   ],
   "source": [
    "#Estimate full state trajectory\n",
    "\n",
    "function lsobj2(z,t_samp,dt,xinterp,xhub,yhist)\n",
    "    \n",
    "    Qinv = 1e-3*eye(6);\n",
    "    \n",
    "    N = length(yhist);\n",
    "    \n",
    "    Nstages = 8;\n",
    "    dts = dt/Nstages;\n",
    "    \n",
    "    xtraj = reshape(z[:],6,N);\n",
    "    \n",
    "    J = (yhist[1] - observation(xtraj[:,1], xhub[:,1])).^2;\n",
    "    \n",
    "    xd1 = xtraj[:,1];\n",
    "    xd2 = xtraj[:,1];\n",
    "    xd3 = xtraj[:,1];\n",
    "    xd4 = xtraj[:,1];\n",
    "    for k = 1:(length(t_samp)-1)\n",
    "        \n",
    "        xstage = xtraj[:,k];\n",
    "        tstage = t_samp[k]\n",
    "        for j = 1:Nstages\n",
    "            dynamics(xd1,xstage,xinterp,tstage);\n",
    "            dynamics(xd2,xstage+0.5*dts*xd1,xinterp,tstage+0.5*dts);\n",
    "            dynamics(xd3,xstage+0.5*dts*xd2,xinterp,tstage+0.5*dts);\n",
    "            dynamics(xd4,xstage+dts*xd3,xinterp,tstage+dts);\n",
    "        \n",
    "            xstage += (dts/6)*(xd1 + 2*xd2 + 2*xd3 + xd4);\n",
    "            tstage += dts;\n",
    "        end\n",
    "        xp = xstage;\n",
    "        \n",
    "        J += (xp-xtraj[:,k+1])'*Qinv*(xp-xtraj[:,k+1]) + (yhist[k+1]-observation(xtraj[:,k+1], xhub[:,k+1])).^2;\n",
    "        \n",
    "    end\n",
    "    \n",
    "    return J;\n",
    "end\n",
    "\n",
    "f(x) = lsobj2(x, t_samp, dt, xinterp, hub_soln, yhist);\n",
    "od = OnceDifferentiable(f, xnode[:]; autodiff = :forward);\n",
    "tic()\n",
    "fitresult = optimize(od, xnode[:]+0.01*randn(Nx*N), LBFGS())\n",
    "toc()\n",
    "\n",
    "e = zeros(length(t_samp));\n",
    "xfit = reshape(Optim.minimizer(fitresult),6,length(t_samp));\n",
    "for k = 1:length(t_samp)\n",
    "    e[k] = 1000*norm(xfit[1:3,k] - xnode[1:3,k]);\n",
    "end\n",
    "\n",
    "plot(t_samp,e)"
   ]
  },
  {
   "cell_type": "code",
   "execution_count": null,
   "metadata": {
    "scrolled": true
   },
   "outputs": [],
   "source": []
  }
 ],
 "metadata": {
  "kernelspec": {
   "display_name": "Julia 0.6.4",
   "language": "julia",
   "name": "julia-0.6"
  },
  "language_info": {
   "file_extension": ".jl",
   "mimetype": "application/julia",
   "name": "julia",
   "version": "0.6.4"
  }
 },
 "nbformat": 4,
 "nbformat_minor": 2
}
