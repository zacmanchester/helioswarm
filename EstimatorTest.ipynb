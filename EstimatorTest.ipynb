{
 "cells": [
  {
   "cell_type": "code",
   "execution_count": 1,
   "metadata": {
    "scrolled": false
   },
   "outputs": [
    {
     "name": "stderr",
     "output_type": "stream",
     "text": [
      "\u001b[1m\u001b[36mINFO: \u001b[39m\u001b[22m\u001b[36mRecompiling stale cache file /Users/zacman/.julia/lib/v0.6/Interpolations.ji for module Interpolations.\n",
      "\u001b[39m"
     ]
    },
    {
     "data": {
      "text/plain": [
       "ephemInterp (generic function with 1 method)"
      ]
     },
     "execution_count": 1,
     "metadata": {},
     "output_type": "execute_result"
    }
   ],
   "source": [
    "#This just does nice interpolations from the ephemeris data for the Sun and moon\n",
    "using Interpolations\n",
    "function ephemInterp(t,x1,x2,x3,x4,x5,x6)\n",
    "x = [x1[t], x2[t], x3[t], x4[t], x5[t], x6[t]];\n",
    "end"
   ]
  },
  {
   "cell_type": "code",
   "execution_count": 2,
   "metadata": {
    "scrolled": true
   },
   "outputs": [
    {
     "data": {
      "text/plain": [
       "dynamics (generic function with 1 method)"
      ]
     },
     "execution_count": 2,
     "metadata": {},
     "output_type": "execute_result"
    }
   ],
   "source": [
    "#This is the dynamics function for the spacecraft.\n",
    "#It accounts for 1/r^2 gravity from the Earth, Sun, and moon.\n",
    "function dynamics(xdot,x,ephem,t)\n",
    "\n",
    "#Gravitational parameters (GM) in 1000*km^3/day^2\n",
    "mu_s = 1.3271244004193938e11*((60*60*24)^2/(1000^3));\n",
    "mu_e = 398600.440*((60*60*24)^2/(1000^3));\n",
    "mu_m = 4902.80007*((60*60*24)^2/(1000^3));\n",
    "#J2 = 1.08263e-3; %J2 spherical harmonic coefficient\n",
    "#Re = 6378.1363/1000; %1000*km\n",
    "\n",
    "rsm = ephemInterp(t,ephem[1],ephem[2],ephem[3],ephem[4],ephem[5],ephem[6]);\n",
    "r_sun = rsm[1:3];\n",
    "r_moon = rsm[4:6];\n",
    "\n",
    "r = x[1:3];\n",
    "rmag = sqrt.(r'*r);\n",
    "rm = r-r_moon;\n",
    "rmmag = sqrt.(rm'*rm);\n",
    "rs = r-r_sun;\n",
    "rsmag = sqrt.(rs'*rs);\n",
    "rfmag = sqrt.(r_sun'*r_sun);\n",
    "\n",
    "v = x[4:6];\n",
    "\n",
    "a_earth = -mu_e*r/(rmag^3);\n",
    "a_moon = -mu_m*rm/(rmmag^3);\n",
    "a_sun = -mu_s*rs/(rsmag^3);\n",
    "a_frame = -mu_s*r_sun/(rfmag^3);\n",
    "\n",
    "a = a_earth + a_moon + a_sun + a_frame;\n",
    "\n",
    "xdot[1:3] = v;\n",
    "xdot[4:6] = a;\n",
    "\n",
    "#da_earth = -(mu_e/(rmag^3))*eye(3) + (3*mu_e/(rmag^5))*(r*r');\n",
    "#da_moon = -(mu_m/(rmmag^3))*eye(3) + (3*mu_m/(rmmag^5))*(rm*rm');\n",
    "#da_sun = -(mu_s/(rsmag^3))*eye(3) + (3*mu_s/(rsmag^5))*(rs*rs');\n",
    "#da = da_earth + da_moon + da_sun;\n",
    "    \n",
    "#A = [zeros(3) eye(3); da  zeros(3)];\n",
    "\n",
    "#return (xdot, A)\n",
    "    \n",
    "end"
   ]
  },
  {
   "cell_type": "code",
   "execution_count": 3,
   "metadata": {
    "scrolled": true
   },
   "outputs": [
    {
     "data": {
      "text/plain": [
       "readEphemData (generic function with 1 method)"
      ]
     },
     "execution_count": 3,
     "metadata": {},
     "output_type": "execute_result"
    }
   ],
   "source": [
    "#This function reads in a .csv ephemeris file from the JPL horizons website\n",
    "using CSV\n",
    "\n",
    "function readEphemData(filename)\n",
    "Data = CSV.read(filename);\n",
    "t = Data[1][:]-Data[1][1]; #time in days\n",
    "r1 = convert(Array{Float64},Data[3]); #km\n",
    "r2 = convert(Array{Float64},Data[4]);\n",
    "r3 = convert(Array{Float64},Data[5]);\n",
    "v1 = convert(Array{Float64},Data[6]); #km/s\n",
    "v2 = convert(Array{Float64},Data[7]);\n",
    "v3 = convert(Array{Float64},Data[8]);\n",
    "\n",
    "return (t, [r1 r2 r3 v1 v2 v3]');\n",
    "end"
   ]
  },
  {
   "cell_type": "code",
   "execution_count": 4,
   "metadata": {
    "scrolled": true
   },
   "outputs": [
    {
     "data": {
      "text/plain": [
       "rot3 (generic function with 1 method)"
      ]
     },
     "execution_count": 4,
     "metadata": {},
     "output_type": "execute_result"
    }
   ],
   "source": [
    "#This function converts classical orbital elements to ECI state vectors\n",
    "#Adapted from Astrodynamics by Vallado\n",
    "function coe2rv(p,ecc,incl,omega,argp,nu);\n",
    "mu_e = 398600.440;\n",
    "small = 0.00000001;\n",
    "\n",
    "#if ( ecc < small )\n",
    "#    if (incl<small) | ( abs(incl-pi)< small )\n",
    "#        argp = 0.0;\n",
    "#        omega= 0.0;\n",
    "#        nu   = truelon;\n",
    "#    else\n",
    "#        argp= 0.0;\n",
    "#        nu  = arglat;\n",
    "#    end\n",
    "#else\n",
    "#    if ( ( incl<small) | (abs(incl-pi)<small) )\n",
    "#        argp = lonper;\n",
    "#        omega= 0.0;\n",
    "#    end\n",
    "#end\n",
    "\n",
    "cosnu= cos(nu);\n",
    "sinnu= sin(nu);\n",
    "temp = p / (1.0  + ecc*cosnu);\n",
    "rpqw = [temp*cosnu, temp*sinnu, 0.0];\n",
    "if ( abs(p) < 0.0001)\n",
    "    p= 0.0001;\n",
    "end\n",
    "vpqw = [-sinnu*sqrt(mu_e)/sqrt(p), (ecc + cosnu)*sqrt(mu_e)/sqrt(p), 0.0];\n",
    "\n",
    "tempvec = rot3(rpqw, -argp);\n",
    "tempvec = rot1(tempvec, -incl);\n",
    "r = rot3(tempvec, -omega);\n",
    "\n",
    "tempvec = rot3(vpqw, -argp);\n",
    "tempvec = rot1(tempvec, -incl);\n",
    "v = rot3(tempvec, -omega);\n",
    "\n",
    "return (r, v);\n",
    "end\n",
    "\n",
    "function rot1(vec, xval)\n",
    "temp= vec[3];\n",
    "c= cos(xval);\n",
    "s= sin(xval);\n",
    "\n",
    "return [vec[1], c*vec[2] + s*temp, c*vec[3] - s*vec[2]];\n",
    "end\n",
    "\n",
    "function rot3(vec, xval)\n",
    "temp= vec[2];\n",
    "c= cos(xval);\n",
    "s= sin(xval);\n",
    "    \n",
    "return [c*vec[1] + s*temp, c*vec[2] - s*vec[1], vec[3]];\n",
    "end"
   ]
  },
  {
   "cell_type": "code",
   "execution_count": 7,
   "metadata": {
    "scrolled": false
   },
   "outputs": [
    {
     "data": {
      "application/vnd.plotly.v1+json": {
       "data": [
        {
         "colorbar": {
          "title": ""
         },
         "hoverinfo": "text",
         "legendgroup": "y1",
         "line": {
          "color": "rgba(0, 154, 250, 1.000)",
          "dash": "solid",
          "shape": "linear",
          "width": 1
         },
         "mode": "lines",
         "name": "y1",
         "showlegend": true,
         "text": [
          null,
          null,
          null,
          null,
          null,
          null,
          null,
          null,
          null,
          null,
          null,
          null,
          null,
          null,
          null
         ],
         "type": "scatter3d",
         "x": [
          30.508327144851723,
          102.28857052396734,
          86.68410570069442,
          47.51082451290657,
          1.818469348553705,
          -44.45746942380313,
          -88.3538386386943,
          -127.84642358504311,
          -161.09481413083563,
          -185.9858699652852,
          -199.62779659399865,
          -197.44781226884515,
          -171.05009257411214,
          -102.21355353596272,
          33.786464028484524
         ],
         "xaxis": "x1",
         "y": [
          -59.902788638150255,
          109.54730622519648,
          214.25595459971655,
          267.40936751391513,
          288.36139231195875,
          286.6546731559355,
          267.5952133525667,
          234.49743294112707,
          189.66650885784586,
          134.94498653837582,
          72.18746372578555,
          4.048560295687957,
          -63.75508916250807,
          -112.52444440653245,
          -59.958390739058714
         ],
         "yaxis": "y1",
         "z": [
          -71.16771842923228,
          -46.87581223606463,
          35.148215670041075,
          111.53153531728209,
          175.11097072578156,
          225.13237036219144,
          261.56940063965453,
          284.23399138548285,
          292.54349627384,
          285.3586394303104,
          260.7325163023625,
          215.43604561919273,
          144.08587217003688,
          38.972378844327004,
          -74.26762746031636
         ]
        },
        {
         "colorbar": {
          "title": ""
         },
         "hoverinfo": "text",
         "legendgroup": "y2",
         "line": {
          "color": "rgba(227, 111, 71, 1.000)",
          "dash": "solid",
          "shape": "linear",
          "width": 1
         },
         "mode": "lines",
         "name": "y2",
         "showlegend": true,
         "text": [
          null,
          null,
          null,
          null,
          null,
          null,
          null,
          null,
          null,
          null,
          null,
          null,
          null,
          null,
          null
         ],
         "type": "scatter3d",
         "x": [
          30.502776049436225,
          102.280213352632,
          86.66866189194872,
          47.488494509688294,
          1.7907620904171666,
          -44.48843778801879,
          -88.38534883179604,
          -127.8749394575051,
          -161.11555438310165,
          -185.99199932765788,
          -199.6087829237158,
          -197.38566656985884,
          -170.90933128218657,
          -101.91322235307906,
          34.2046652236921
         ],
         "xaxis": "x1",
         "y": [
          -59.90092470391431,
          109.54839375174915,
          214.24588391929424,
          267.3823903539877,
          288.31453720446643,
          286.58609439060837,
          267.50368326775333,
          234.38221101369632,
          189.52743532204266,
          134.7828763882174,
          72.00520345277711,
          3.8543716385577107,
          -63.935643706953904,
          -112.5865512906314,
          -59.50919578660157
         ],
         "yaxis": "y1",
         "z": [
          -71.1682074782056,
          -46.86742907504434,
          35.16752294324394,
          111.55624106154806,
          175.1356165391758,
          225.15168680709664,
          261.5779732620388,
          284.2258911474109,
          292.5118189265489,
          285.2948188275992,
          260.6251671272513,
          215.2688605051551,
          143.8342322827391,
          38.6123539169069,
          -74.44169984777807
         ]
        },
        {
         "colorbar": {
          "title": ""
         },
         "hoverinfo": "text",
         "legendgroup": "y3",
         "marker": {
          "color": "rgba(0, 128, 0, 1.000)",
          "line": {
           "color": "rgba(0, 0, 0, 1.000)",
           "width": 1
          },
          "size": 8,
          "symbol": "circle"
         },
         "mode": "markers",
         "name": "y3",
         "showlegend": true,
         "text": [
          null
         ],
         "type": "scatter3d",
         "x": [
          0
         ],
         "xaxis": "x1",
         "y": [
          0
         ],
         "yaxis": "y1",
         "z": [
          0
         ]
        }
       ],
       "layout": {
        "annotations": [],
        "height": 400,
        "legend": {
         "bgcolor": "rgba(255, 255, 255, 1.000)",
         "bordercolor": "rgba(0, 0, 0, 1.000)",
         "font": {
          "color": "rgba(0, 0, 0, 1.000)",
          "family": "sans-serif",
          "size": 11
         },
         "tracegroupgap": 0,
         "x": 1,
         "y": 1
        },
        "margin": {
         "b": 20,
         "l": 0,
         "r": 0,
         "t": 20
        },
        "paper_bgcolor": "rgba(255, 255, 255, 1.000)",
        "plot_bgcolor": "rgba(255, 255, 255, 1.000)",
        "scene": {
         "camera": {
          "eye": {
           "x": 1.12583302491977,
           "y": -1.9499999999999997,
           "z": 1.3
          }
         },
         "xaxis": {
          "anchor": "y1",
          "domain": [
           0.0658209390492855,
           0.9934383202099738
          ],
          "gridcolor": "rgba(0, 0, 0, 0.100)",
          "gridwidth": 0.5,
          "linecolor": "rgba(0, 0, 0, 1.000)",
          "mirror": false,
          "range": [
           -208.68528760753765,
           111.34606153750632
          ],
          "showgrid": true,
          "showline": false,
          "showticklabels": false,
          "tickangle": 0,
          "tickcolor": "rgba(0, 0, 0, 0.000)",
          "tickfont": {
           "color": "rgba(0, 0, 0, 1.000)",
           "family": "sans-serif",
           "size": 11
          },
          "tickmode": "array",
          "ticks": "inside",
          "ticktext": [
           "-200",
           "-100",
           "0",
           "100"
          ],
          "tickvals": [
           -200,
           -100,
           0,
           100
          ],
          "title": "",
          "titlefont": {
           "color": "rgba(0, 0, 0, 1.000)",
           "family": "sans-serif",
           "size": 15
          },
          "type": "-",
          "visible": true,
          "zeroline": false,
          "zerolinecolor": "rgba(0, 0, 0, 1.000)"
         },
         "yaxis": {
          "anchor": "x1",
          "domain": [
           0.03762029746281716,
           0.9901574803149606
          ],
          "gridcolor": "rgba(0, 0, 0, 0.100)",
          "gridwidth": 0.5,
          "linecolor": "rgba(0, 0, 0, 1.000)",
          "mirror": false,
          "range": [
           -124.61498959870912,
           300.38983062003643
          ],
          "showgrid": true,
          "showline": false,
          "showticklabels": false,
          "tickangle": 0,
          "tickcolor": "rgba(0, 0, 0, 0.000)",
          "tickfont": {
           "color": "rgba(0, 0, 0, 1.000)",
           "family": "sans-serif",
           "size": 11
          },
          "tickmode": "array",
          "ticks": "inside",
          "ticktext": [
           "-100",
           "0",
           "100",
           "200",
           "300"
          ],
          "tickvals": [
           -100,
           0,
           100,
           200,
           300
          ],
          "title": "",
          "titlefont": {
           "color": "rgba(0, 0, 0, 1.000)",
           "family": "sans-serif",
           "size": 15
          },
          "type": "-",
          "visible": true,
          "zeroline": false,
          "zerolinecolor": "rgba(0, 0, 0, 1.000)"
         },
         "zaxis": {
          "gridcolor": "rgba(0, 0, 0, 0.100)",
          "gridwidth": 0.5,
          "linecolor": "rgba(0, 0, 0, 1.000)",
          "mirror": false,
          "range": [
           -85.45125573142661,
           303.55305215748854
          ],
          "showgrid": true,
          "showline": false,
          "showticklabels": false,
          "tickangle": 0,
          "tickcolor": "rgba(0, 0, 0, 0.000)",
          "tickfont": {
           "color": "rgba(0, 0, 0, 1.000)",
           "family": "sans-serif",
           "size": 11
          },
          "tickmode": "array",
          "ticks": "inside",
          "ticktext": [
           "0",
           "100",
           "200",
           "300"
          ],
          "tickvals": [
           0,
           100,
           200,
           300
          ],
          "title": "",
          "titlefont": {
           "color": "rgba(0, 0, 0, 1.000)",
           "family": "sans-serif",
           "size": 15
          },
          "type": "-",
          "visible": true,
          "zeroline": false,
          "zerolinecolor": "rgba(0, 0, 0, 1.000)"
         }
        },
        "showlegend": true,
        "width": 600
       }
      },
      "text/html": [
       "<script src=\"file:///Users/zacman/.julia/v0.6/Plots/src/backends/../../deps/plotly-latest.min.js\"></script>    <div id=\"1c7d02a8-80ea-46ca-bdd9-1e4d20b18bac\" style=\"width:600px;height:400px;\"></div>\n",
       "    <script>\n",
       "    PLOT = document.getElementById('1c7d02a8-80ea-46ca-bdd9-1e4d20b18bac');\n",
       "    Plotly.plot(PLOT, [{\"xaxis\":\"x1\",\"colorbar\":{\"title\":\"\"},\"yaxis\":\"y1\",\"text\":[null,null,null,null,null,null,null,null,null,null,null,null,null,null,null],\"x\":[30.508327144851723,102.28857052396734,86.68410570069442,47.51082451290657,1.818469348553705,-44.45746942380313,-88.3538386386943,-127.84642358504311,-161.09481413083563,-185.9858699652852,-199.62779659399865,-197.44781226884515,-171.05009257411214,-102.21355353596272,33.786464028484524],\"showlegend\":true,\"mode\":\"lines\",\"name\":\"y1\",\"legendgroup\":\"y1\",\"z\":[-71.16771842923228,-46.87581223606463,35.148215670041075,111.53153531728209,175.11097072578156,225.13237036219144,261.56940063965453,284.23399138548285,292.54349627384,285.3586394303104,260.7325163023625,215.43604561919273,144.08587217003688,38.972378844327004,-74.26762746031636],\"line\":{\"color\":\"rgba(0, 154, 250, 1.000)\",\"shape\":\"linear\",\"dash\":\"solid\",\"width\":1},\"y\":[-59.902788638150255,109.54730622519648,214.25595459971655,267.40936751391513,288.36139231195875,286.6546731559355,267.5952133525667,234.49743294112707,189.66650885784586,134.94498653837582,72.18746372578555,4.048560295687957,-63.75508916250807,-112.52444440653245,-59.958390739058714],\"type\":\"scatter3d\",\"hoverinfo\":\"text\"},{\"xaxis\":\"x1\",\"colorbar\":{\"title\":\"\"},\"yaxis\":\"y1\",\"text\":[null,null,null,null,null,null,null,null,null,null,null,null,null,null,null],\"x\":[30.502776049436225,102.280213352632,86.66866189194872,47.488494509688294,1.7907620904171666,-44.48843778801879,-88.38534883179604,-127.8749394575051,-161.11555438310165,-185.99199932765788,-199.6087829237158,-197.38566656985884,-170.90933128218657,-101.91322235307906,34.2046652236921],\"showlegend\":true,\"mode\":\"lines\",\"name\":\"y2\",\"legendgroup\":\"y2\",\"z\":[-71.1682074782056,-46.86742907504434,35.16752294324394,111.55624106154806,175.1356165391758,225.15168680709664,261.5779732620388,284.2258911474109,292.5118189265489,285.2948188275992,260.6251671272513,215.2688605051551,143.8342322827391,38.6123539169069,-74.44169984777807],\"line\":{\"color\":\"rgba(227, 111, 71, 1.000)\",\"shape\":\"linear\",\"dash\":\"solid\",\"width\":1},\"y\":[-59.90092470391431,109.54839375174915,214.24588391929424,267.3823903539877,288.31453720446643,286.58609439060837,267.50368326775333,234.38221101369632,189.52743532204266,134.7828763882174,72.00520345277711,3.8543716385577107,-63.935643706953904,-112.5865512906314,-59.50919578660157],\"type\":\"scatter3d\",\"hoverinfo\":\"text\"},{\"xaxis\":\"x1\",\"colorbar\":{\"title\":\"\"},\"yaxis\":\"y1\",\"text\":[null],\"x\":[0.0],\"showlegend\":true,\"mode\":\"markers\",\"name\":\"y3\",\"legendgroup\":\"y3\",\"z\":[0.0],\"marker\":{\"symbol\":\"circle\",\"color\":\"rgba(0, 128, 0, 1.000)\",\"line\":{\"color\":\"rgba(0, 0, 0, 1.000)\",\"width\":1},\"size\":8},\"y\":[0.0],\"type\":\"scatter3d\",\"hoverinfo\":\"text\"}], {\"showlegend\":true,\"paper_bgcolor\":\"rgba(255, 255, 255, 1.000)\",\"annotations\":[],\"height\":400,\"margin\":{\"l\":0,\"b\":20,\"r\":0,\"t\":20},\"plot_bgcolor\":\"rgba(255, 255, 255, 1.000)\",\"scene\":{\"camera\":{\"eye\":{\"y\":-1.9499999999999997,\"z\":1.3,\"x\":1.12583302491977}},\"xaxis\":{\"showticklabels\":false,\"gridwidth\":0.5,\"tickvals\":[-200.0,-100.0,0.0,100.0],\"visible\":true,\"ticks\":\"inside\",\"range\":[-208.68528760753765,111.34606153750632],\"domain\":[0.0658209390492855,0.9934383202099738],\"tickmode\":\"array\",\"linecolor\":\"rgba(0, 0, 0, 1.000)\",\"showgrid\":true,\"title\":\"\",\"mirror\":false,\"tickangle\":0,\"showline\":false,\"gridcolor\":\"rgba(0, 0, 0, 0.100)\",\"titlefont\":{\"color\":\"rgba(0, 0, 0, 1.000)\",\"family\":\"sans-serif\",\"size\":15},\"tickcolor\":\"rgba(0, 0, 0, 0.000)\",\"ticktext\":[\"-200\",\"-100\",\"0\",\"100\"],\"zeroline\":false,\"type\":\"-\",\"tickfont\":{\"color\":\"rgba(0, 0, 0, 1.000)\",\"family\":\"sans-serif\",\"size\":11},\"zerolinecolor\":\"rgba(0, 0, 0, 1.000)\",\"anchor\":\"y1\"},\"yaxis\":{\"showticklabels\":false,\"gridwidth\":0.5,\"tickvals\":[-100.0,0.0,100.0,200.0,300.0],\"visible\":true,\"ticks\":\"inside\",\"range\":[-124.61498959870912,300.38983062003643],\"domain\":[0.03762029746281716,0.9901574803149606],\"tickmode\":\"array\",\"linecolor\":\"rgba(0, 0, 0, 1.000)\",\"showgrid\":true,\"title\":\"\",\"mirror\":false,\"tickangle\":0,\"showline\":false,\"gridcolor\":\"rgba(0, 0, 0, 0.100)\",\"titlefont\":{\"color\":\"rgba(0, 0, 0, 1.000)\",\"family\":\"sans-serif\",\"size\":15},\"tickcolor\":\"rgba(0, 0, 0, 0.000)\",\"ticktext\":[\"-100\",\"0\",\"100\",\"200\",\"300\"],\"zeroline\":false,\"type\":\"-\",\"tickfont\":{\"color\":\"rgba(0, 0, 0, 1.000)\",\"family\":\"sans-serif\",\"size\":11},\"zerolinecolor\":\"rgba(0, 0, 0, 1.000)\",\"anchor\":\"x1\"},\"zaxis\":{\"showticklabels\":false,\"gridwidth\":0.5,\"tickvals\":[0.0,100.0,200.0,300.0],\"visible\":true,\"ticks\":\"inside\",\"range\":[-85.45125573142661,303.55305215748854],\"tickmode\":\"array\",\"linecolor\":\"rgba(0, 0, 0, 1.000)\",\"showgrid\":true,\"title\":\"\",\"mirror\":false,\"tickangle\":0,\"showline\":false,\"gridcolor\":\"rgba(0, 0, 0, 0.100)\",\"titlefont\":{\"color\":\"rgba(0, 0, 0, 1.000)\",\"family\":\"sans-serif\",\"size\":15},\"tickcolor\":\"rgba(0, 0, 0, 0.000)\",\"ticktext\":[\"0\",\"100\",\"200\",\"300\"],\"zeroline\":false,\"type\":\"-\",\"tickfont\":{\"color\":\"rgba(0, 0, 0, 1.000)\",\"family\":\"sans-serif\",\"size\":11},\"zerolinecolor\":\"rgba(0, 0, 0, 1.000)\"}},\"legend\":{\"tracegroupgap\":0,\"bordercolor\":\"rgba(0, 0, 0, 1.000)\",\"bgcolor\":\"rgba(255, 255, 255, 1.000)\",\"font\":{\"color\":\"rgba(0, 0, 0, 1.000)\",\"family\":\"sans-serif\",\"size\":11},\"y\":1.0,\"x\":1.0},\"width\":600});\n",
       "    </script>\n"
      ]
     },
     "execution_count": 7,
     "metadata": {},
     "output_type": "execute_result"
    }
   ],
   "source": [
    "#This is the script that sets up the simulation\n",
    "\n",
    "#Load ephemeris for sun and moon from .csv files\n",
    "(t_sun,x_sun) = readEphemData(\"sun_ephem.csv\");\n",
    "(t_moon,x_moon) = readEphemData(\"moon_ephem.csv\");\n",
    "\n",
    "t_ephem = t_sun;\n",
    "x_ephem = [x_sun[1:3,:]/1000; x_moon[1:3,:]/1000]; #put distance in 1000*km\n",
    "\n",
    "#Set up linear interpolation of sun + moon positions positions\n",
    "xi1 = interpolate((t_ephem,), x_ephem[1,:], Gridded(Linear()));\n",
    "xi2 = interpolate((t_ephem,), x_ephem[2,:], Gridded(Linear()));\n",
    "xi3 = interpolate((t_ephem,), x_ephem[3,:], Gridded(Linear()));\n",
    "xi4 = interpolate((t_ephem,), x_ephem[4,:], Gridded(Linear()));\n",
    "xi5 = interpolate((t_ephem,), x_ephem[5,:], Gridded(Linear()));\n",
    "xi6 = interpolate((t_ephem,), x_ephem[6,:], Gridded(Linear()));\n",
    "xinterp = (xi1, xi2, xi3, xi4, xi5, xi6);\n",
    "\n",
    "#Hub Initial Conditions\n",
    "# 25 Jan 2024 22:30:25.520\n",
    "a = 243729.554542; #km\n",
    "e = 0.598335;\n",
    "i = 51.975*(pi/180);\n",
    "RAAN = 61.110*(pi/180);\n",
    "argp = 247.345*(pi/180);\n",
    "nu = 0.0; #true anomaly\n",
    "p = a*(1-e*e); #semilatus rectum\n",
    "\n",
    "#Convert to ECI state vector\n",
    "(r0,v0) = coe2rv(p,e,i,RAAN,argp,nu);\n",
    "\n",
    "#Convert units to 1000*km and days\n",
    "x0hub = [r0/1000; v0*(24*60*60/1000)];\n",
    "t0 = 25 + 22/24 + 30/(24*60) + 25.52/(24*60*60);\n",
    "\n",
    "dt = 24/24; #Take measurements once every 24 hours\n",
    "t_samp = t0:dt:(t0+14); #Run for 14 days\n",
    "\n",
    "Nx = 6; #State dimension\n",
    "N = length(t_samp); #Number of time steps\n",
    "\n",
    "x0node = diagm(ones(Nx)+[1e-4*randn(3); 1e-5*randn(3)])*x0hub; #Generate random node initial conditions\n",
    "\n",
    "#Propagate hub and node orbits (ground truth)\n",
    "using DifferentialEquations\n",
    "hub_prob = ODEProblem(dynamics,x0hub,(t_samp[1], t_samp[end]),xinterp);\n",
    "hub_soln = solve(hub_prob,Tsit5(),reltol=1e-9,abstol=1e-9,saveat=dt);\n",
    "node_prob = ODEProblem(dynamics,x0node,(t_samp[1], t_samp[end]),xinterp);\n",
    "node_soln = solve(node_prob,Tsit5(),reltol=1e-9,abstol=1e-9,saveat=dt);\n",
    "\n",
    "#Plot orbits\n",
    "using Plots\n",
    "plot(hub_soln[1,:],hub_soln[2,:],hub_soln[3,:],xshowaxis=false,yshowaxis=false,zshowaxis=false);\n",
    "plot!(node_soln[1,:],node_soln[2,:],node_soln[3,:],xshowaxis=false,yshowaxis=false,zshowaxis=false);\n",
    "scatter!([0.0],[0.0],[0.0],mcolor=:green)"
   ]
  },
  {
   "cell_type": "code",
   "execution_count": 8,
   "metadata": {
    "scrolled": false
   },
   "outputs": [
    {
     "data": {
      "application/vnd.plotly.v1+json": {
       "data": [
        {
         "colorbar": {
          "title": ""
         },
         "hoverinfo": "text",
         "legendgroup": "y1",
         "line": {
          "color": "rgba(0, 154, 250, 1.000)",
          "dash": "solid",
          "shape": "linear",
          "width": 1
         },
         "mode": "lines",
         "name": "y1",
         "showlegend": true,
         "text": [
          null,
          null,
          null,
          null,
          null,
          null,
          null,
          null,
          null,
          null,
          null,
          null,
          null,
          null,
          null
         ],
         "type": "scatter",
         "x": [
          25.93779537037037,
          26.93779537037037,
          27.93779537037037,
          28.93779537037037,
          29.93779537037037,
          30.93779537037037,
          31.93779537037037,
          32.93779537037037,
          33.93779537037037,
          34.93779537037037,
          35.93779537037037,
          36.93779537037037,
          37.93779537037037,
          38.93779537037037,
          39.93779537037037
         ],
         "xaxis": "x1",
         "y": [
          5.87605990832203,
          11.887069252889798,
          26.696453533604515,
          42.85755477407506,
          59.75373937608848,
          77.6866248447009,
          97.18095775302591,
          118.97420476703691,
          144.13556381496807,
          174.32825129019713,
          212.37742858362446,
          263.6705990745332,
          340.20040814766804,
          472.9418915983523,
          637.941643931982
         ],
         "yaxis": "y1"
        }
       ],
       "layout": {
        "annotations": [],
        "height": 400,
        "legend": {
         "bgcolor": "rgba(255, 255, 255, 1.000)",
         "bordercolor": "rgba(0, 0, 0, 1.000)",
         "font": {
          "color": "rgba(0, 0, 0, 1.000)",
          "family": "sans-serif",
          "size": 11
         },
         "tracegroupgap": 0,
         "x": 1,
         "y": 1
        },
        "margin": {
         "b": 20,
         "l": 0,
         "r": 0,
         "t": 20
        },
        "paper_bgcolor": "rgba(255, 255, 255, 1.000)",
        "plot_bgcolor": "rgba(255, 255, 255, 1.000)",
        "showlegend": true,
        "width": 600,
        "xaxis": {
         "anchor": "y1",
         "domain": [
          0.07646908719743364,
          0.9934383202099737
         ],
         "gridcolor": "rgba(0, 0, 0, 0.100)",
         "gridwidth": 0.5,
         "linecolor": "rgba(0, 0, 0, 1.000)",
         "mirror": false,
         "range": [
          25.517795370370372,
          40.35779537037037
         ],
         "showgrid": true,
         "showline": true,
         "showticklabels": true,
         "tickangle": 0,
         "tickcolor": "rgb(0, 0, 0)",
         "tickfont": {
          "color": "rgba(0, 0, 0, 1.000)",
          "family": "sans-serif",
          "size": 11
         },
         "tickmode": "array",
         "ticks": "inside",
         "ticktext": [
          "27.5",
          "30.0",
          "32.5",
          "35.0",
          "37.5",
          "40.0"
         ],
         "tickvals": [
          27.5,
          30,
          32.5,
          35,
          37.5,
          40
         ],
         "title": "Time (Days)",
         "titlefont": {
          "color": "rgba(0, 0, 0, 1.000)",
          "family": "sans-serif",
          "size": 15
         },
         "type": "-",
         "visible": true,
         "zeroline": false,
         "zerolinecolor": "rgba(0, 0, 0, 1.000)"
        },
        "yaxis": {
         "anchor": "x1",
         "domain": [
          0.07581474190726165,
          0.9901574803149606
         ],
         "gridcolor": "rgba(0, 0, 0, 0.100)",
         "gridwidth": 0.5,
         "linecolor": "rgba(0, 0, 0, 1.000)",
         "mirror": false,
         "range": [
          -13.085907612387764,
          656.9036114526917
         ],
         "showgrid": true,
         "showline": true,
         "showticklabels": true,
         "tickangle": 0,
         "tickcolor": "rgb(0, 0, 0)",
         "tickfont": {
          "color": "rgba(0, 0, 0, 1.000)",
          "family": "sans-serif",
          "size": 11
         },
         "tickmode": "array",
         "ticks": "inside",
         "ticktext": [
          "0",
          "100",
          "200",
          "300",
          "400",
          "500",
          "600"
         ],
         "tickvals": [
          0,
          100,
          200,
          300,
          400,
          500,
          600
         ],
         "title": "Hub-Node Range (km)",
         "titlefont": {
          "color": "rgba(0, 0, 0, 1.000)",
          "family": "sans-serif",
          "size": 15
         },
         "type": "-",
         "visible": true,
         "zeroline": false,
         "zerolinecolor": "rgba(0, 0, 0, 1.000)"
        }
       }
      },
      "text/html": [
       "<script src=\"file:///Users/zacman/.julia/v0.6/Plots/src/backends/../../deps/plotly-latest.min.js\"></script>    <div id=\"7f490c64-690c-4a3b-aea1-fb08442e9251\" style=\"width:600px;height:400px;\"></div>\n",
       "    <script>\n",
       "    PLOT = document.getElementById('7f490c64-690c-4a3b-aea1-fb08442e9251');\n",
       "    Plotly.plot(PLOT, [{\"xaxis\":\"x1\",\"colorbar\":{\"title\":\"\"},\"yaxis\":\"y1\",\"text\":[null,null,null,null,null,null,null,null,null,null,null,null,null,null,null],\"x\":[25.93779537037037,26.93779537037037,27.93779537037037,28.93779537037037,29.93779537037037,30.93779537037037,31.93779537037037,32.93779537037037,33.93779537037037,34.93779537037037,35.93779537037037,36.93779537037037,37.93779537037037,38.93779537037037,39.93779537037037],\"showlegend\":true,\"mode\":\"lines\",\"name\":\"y1\",\"legendgroup\":\"y1\",\"line\":{\"color\":\"rgba(0, 154, 250, 1.000)\",\"shape\":\"linear\",\"dash\":\"solid\",\"width\":1},\"y\":[5.87605990832203,11.887069252889798,26.696453533604515,42.85755477407506,59.75373937608848,77.6866248447009,97.18095775302591,118.97420476703691,144.13556381496807,174.32825129019713,212.37742858362446,263.6705990745332,340.20040814766804,472.9418915983523,637.941643931982],\"type\":\"scatter\",\"hoverinfo\":\"text\"}], {\"showlegend\":true,\"xaxis\":{\"showticklabels\":true,\"gridwidth\":0.5,\"tickvals\":[27.5,30.0,32.5,35.0,37.5,40.0],\"visible\":true,\"ticks\":\"inside\",\"range\":[25.517795370370372,40.35779537037037],\"domain\":[0.07646908719743364,0.9934383202099737],\"tickmode\":\"array\",\"linecolor\":\"rgba(0, 0, 0, 1.000)\",\"showgrid\":true,\"title\":\"Time (Days)\",\"mirror\":false,\"tickangle\":0,\"showline\":true,\"gridcolor\":\"rgba(0, 0, 0, 0.100)\",\"titlefont\":{\"color\":\"rgba(0, 0, 0, 1.000)\",\"family\":\"sans-serif\",\"size\":15},\"tickcolor\":\"rgb(0, 0, 0)\",\"ticktext\":[\"27.5\",\"30.0\",\"32.5\",\"35.0\",\"37.5\",\"40.0\"],\"zeroline\":false,\"type\":\"-\",\"tickfont\":{\"color\":\"rgba(0, 0, 0, 1.000)\",\"family\":\"sans-serif\",\"size\":11},\"zerolinecolor\":\"rgba(0, 0, 0, 1.000)\",\"anchor\":\"y1\"},\"paper_bgcolor\":\"rgba(255, 255, 255, 1.000)\",\"annotations\":[],\"height\":400,\"margin\":{\"l\":0,\"b\":20,\"r\":0,\"t\":20},\"plot_bgcolor\":\"rgba(255, 255, 255, 1.000)\",\"yaxis\":{\"showticklabels\":true,\"gridwidth\":0.5,\"tickvals\":[0.0,100.0,200.0,300.0,400.0,500.0,600.0],\"visible\":true,\"ticks\":\"inside\",\"range\":[-13.085907612387764,656.9036114526917],\"domain\":[0.07581474190726165,0.9901574803149606],\"tickmode\":\"array\",\"linecolor\":\"rgba(0, 0, 0, 1.000)\",\"showgrid\":true,\"title\":\"Hub-Node Range (km)\",\"mirror\":false,\"tickangle\":0,\"showline\":true,\"gridcolor\":\"rgba(0, 0, 0, 0.100)\",\"titlefont\":{\"color\":\"rgba(0, 0, 0, 1.000)\",\"family\":\"sans-serif\",\"size\":15},\"tickcolor\":\"rgb(0, 0, 0)\",\"ticktext\":[\"0\",\"100\",\"200\",\"300\",\"400\",\"500\",\"600\"],\"zeroline\":false,\"type\":\"-\",\"tickfont\":{\"color\":\"rgba(0, 0, 0, 1.000)\",\"family\":\"sans-serif\",\"size\":11},\"zerolinecolor\":\"rgba(0, 0, 0, 1.000)\",\"anchor\":\"x1\"},\"legend\":{\"tracegroupgap\":0,\"bordercolor\":\"rgba(0, 0, 0, 1.000)\",\"bgcolor\":\"rgba(255, 255, 255, 1.000)\",\"font\":{\"color\":\"rgba(0, 0, 0, 1.000)\",\"family\":\"sans-serif\",\"size\":11},\"y\":1.0,\"x\":1.0},\"width\":600});\n",
       "    </script>\n"
      ]
     },
     "execution_count": 8,
     "metadata": {},
     "output_type": "execute_result"
    }
   ],
   "source": [
    "#Plot true Hub-Node range\n",
    "r = zeros(length(t_samp));\n",
    "for k = 1:length(t_samp)\n",
    "    r[k] = 1000*norm(node_soln[k][1:3] - hub_soln[k][1:3]);\n",
    "end\n",
    "plot(t_samp,r, xlabel=\"Time (Days)\", ylabel=\"Hub-Node Range (km)\")"
   ]
  },
  {
   "cell_type": "code",
   "execution_count": 9,
   "metadata": {},
   "outputs": [],
   "source": [
    "#Generate noisy measurement data from ground truth simulations\n",
    "function observation(xnode,xhub)\n",
    "    y = norm(xnode[1:3]-xhub[1:3]);\n",
    "end\n",
    "\n",
    "yhist = zeros(length(hub_soln),1);\n",
    "xnode = zeros(6,length(node_soln));\n",
    "xhub = zeros(6,length(hub_soln));\n",
    "for k = 1:length(hub_soln)\n",
    "    xhub[:,k] = hub_soln[k];\n",
    "    xnode[:,k] = node_soln[k];\n",
    "    yhist[k] = observation(xnode[:,k], xhub[:,k]);\n",
    "    \n",
    "    yhist[k] += 1e-5*randn(); #Add noise: Std. Dev. = 10m in ranging\n",
    "    xhub[:,k] += [1e-3*randn(3,1); 1e-3*randn(3,1)]; #Add noise: Std. Dev. = 1km in position and about 1 cm/sec in velocity\n",
    "end"
   ]
  },
  {
   "cell_type": "code",
   "execution_count": 10,
   "metadata": {},
   "outputs": [
    {
     "data": {
      "text/plain": [
       "Results of Optimization Algorithm\n",
       " * Algorithm: L-BFGS\n",
       " * Starting Point: [30.487193651882155,-59.905717540189706, ...]\n",
       " * Minimizer: [30.50296812736188,-59.90353481111018, ...]\n",
       " * Minimum: 2.936837e-10\n",
       " * Iterations: 2000\n",
       " * Convergence: false\n",
       "   * |x - x'| ≤ 1.0e-32: false \n",
       "     |x - x'| = 8.41e-06 \n",
       "   * |f(x) - f(x')| ≤ 1.0e-32 |f(x)|: false\n",
       "     |f(x) - f(x')| = 2.16e-04 |f(x)|\n",
       "   * |g(x)| ≤ 1.0e-08: false \n",
       "     |g(x)| = 1.71e-07 \n",
       "   * Stopped by an increasing objective: false\n",
       "   * Reached Maximum Number of Iterations: true\n",
       " * Objective Calls: 5841\n",
       " * Gradient Calls: 5841"
      ]
     },
     "execution_count": 10,
     "metadata": {},
     "output_type": "execute_result"
    }
   ],
   "source": [
    "#Estimate full state trajectory\n",
    "\n",
    "function lsobj2(z,t_samp,dt,xinterp,xhub,yhist)\n",
    "    \n",
    "    Qinv = 1e-3*eye(6); #This weights dynamics accuracy vs. measurement accuracy.\n",
    "    \n",
    "    N = length(yhist);\n",
    "    \n",
    "    #Number of RK4 steps to take between observations\n",
    "    #I find that these steps should be no more than 3~4 hours long\n",
    "    Nstages = 8;\n",
    "    dts = dt/Nstages;\n",
    "    \n",
    "    xtraj = reshape(z[:],6,N);\n",
    "    \n",
    "    J = (yhist[1] - observation(xtraj[:,1], xhub[:,1])).^2;\n",
    "    \n",
    "    xd1 = xtraj[:,1];\n",
    "    xd2 = xtraj[:,1];\n",
    "    xd3 = xtraj[:,1];\n",
    "    xd4 = xtraj[:,1];\n",
    "    for k = 1:(length(t_samp)-1)\n",
    "        \n",
    "        xstage = xtraj[:,k];\n",
    "        tstage = t_samp[k]\n",
    "        for j = 1:Nstages\n",
    "            dynamics(xd1,xstage,xinterp,tstage);\n",
    "            dynamics(xd2,xstage+0.5*dts*xd1,xinterp,tstage+0.5*dts);\n",
    "            dynamics(xd3,xstage+0.5*dts*xd2,xinterp,tstage+0.5*dts);\n",
    "            dynamics(xd4,xstage+dts*xd3,xinterp,tstage+dts);\n",
    "        \n",
    "            xstage += (dts/6)*(xd1 + 2*xd2 + 2*xd3 + xd4);\n",
    "            tstage += dts;\n",
    "        end\n",
    "        xp = xstage;\n",
    "        \n",
    "        #Cost function weights dyamics predictions vs. observations\n",
    "        #This is the same Maximum a-posteriori cost function that a Kalman filter optimizes\n",
    "        #But here we're treating it in its full nonlinear glory without making any linearizations\n",
    "        #Or assumptions that the errors are Gaussian\n",
    "        J += (xp-xtraj[:,k+1])'*Qinv*(xp-xtraj[:,k+1]) + (yhist[k+1]-observation(xtraj[:,k+1], xhub[:,k+1])).^2;\n",
    "        \n",
    "    end\n",
    "    \n",
    "    return J;\n",
    "end\n",
    "\n",
    "#Set up and solve nonlinear optimization problem\n",
    "using Optim\n",
    "f(x) = lsobj2(x, t_samp, dt, xinterp, hub_soln, yhist);\n",
    "od = OnceDifferentiable(f, xnode[:]; autodiff = :forward);\n",
    "fitresult = optimize(od, xnode[:]+0.1*randn(Nx*N), LBFGS(), Optim.Options(iterations = 2000))"
   ]
  },
  {
   "cell_type": "code",
   "execution_count": 11,
   "metadata": {
    "scrolled": false
   },
   "outputs": [
    {
     "data": {
      "application/vnd.plotly.v1+json": {
       "data": [
        {
         "colorbar": {
          "title": ""
         },
         "hoverinfo": "text",
         "legendgroup": "y1",
         "line": {
          "color": "rgba(0, 154, 250, 1.000)",
          "dash": "solid",
          "shape": "linear",
          "width": 1
         },
         "mode": "lines",
         "name": "y1",
         "showlegend": true,
         "text": [
          null,
          null,
          null,
          null,
          null,
          null,
          null,
          null,
          null,
          null,
          null,
          null,
          null,
          null,
          null
         ],
         "type": "scatter",
         "x": [
          25.93779537037037,
          26.93779537037037,
          27.93779537037037,
          28.93779537037037,
          29.93779537037037,
          30.93779537037037,
          31.93779537037037,
          32.93779537037037,
          33.93779537037037,
          34.93779537037037,
          35.93779537037037,
          36.93779537037037,
          37.93779537037037,
          38.93779537037037,
          39.93779537037037
         ],
         "xaxis": "x1",
         "y": [
          3.195534170863837,
          14.247608802150612,
          15.928911420943225,
          14.588844670759002,
          11.998176160175651,
          8.849614798880886,
          5.583029319603112,
          2.8728935481639817,
          3.207277549384251,
          5.817055394336621,
          8.430582591488585,
          10.418857937266331,
          11.121824750213923,
          8.955849131153926,
          2.4040666360776215
         ],
         "yaxis": "y1"
        }
       ],
       "layout": {
        "annotations": [],
        "height": 400,
        "legend": {
         "bgcolor": "rgba(255, 255, 255, 1.000)",
         "bordercolor": "rgba(0, 0, 0, 1.000)",
         "font": {
          "color": "rgba(0, 0, 0, 1.000)",
          "family": "sans-serif",
          "size": 11
         },
         "tracegroupgap": 0,
         "x": 1,
         "y": 1
        },
        "margin": {
         "b": 20,
         "l": 0,
         "r": 0,
         "t": 20
        },
        "paper_bgcolor": "rgba(255, 255, 255, 1.000)",
        "plot_bgcolor": "rgba(255, 255, 255, 1.000)",
        "showlegend": true,
        "width": 600,
        "xaxis": {
         "anchor": "y1",
         "domain": [
          0.09128390201224845,
          0.9934383202099738
         ],
         "gridcolor": "rgba(0, 0, 0, 0.100)",
         "gridwidth": 0.5,
         "linecolor": "rgba(0, 0, 0, 1.000)",
         "mirror": false,
         "range": [
          25.517795370370372,
          40.35779537037037
         ],
         "showgrid": true,
         "showline": true,
         "showticklabels": true,
         "tickangle": 0,
         "tickcolor": "rgb(0, 0, 0)",
         "tickfont": {
          "color": "rgba(0, 0, 0, 1.000)",
          "family": "sans-serif",
          "size": 11
         },
         "tickmode": "array",
         "ticks": "inside",
         "ticktext": [
          "27.5",
          "30.0",
          "32.5",
          "35.0",
          "37.5",
          "40.0"
         ],
         "tickvals": [
          27.5,
          30,
          32.5,
          35,
          37.5,
          40
         ],
         "title": "Time (Days)",
         "titlefont": {
          "color": "rgba(0, 0, 0, 1.000)",
          "family": "sans-serif",
          "size": 15
         },
         "type": "-",
         "visible": true,
         "zeroline": false,
         "zerolinecolor": "rgba(0, 0, 0, 1.000)"
        },
        "yaxis": {
         "anchor": "x1",
         "domain": [
          0.07581474190726165,
          0.9901574803149606
         ],
         "gridcolor": "rgba(0, 0, 0, 0.100)",
         "gridwidth": 0.5,
         "linecolor": "rgba(0, 0, 0, 1.000)",
         "mirror": false,
         "range": [
          1.9983212925316534,
          16.334656764489193
         ],
         "showgrid": true,
         "showline": true,
         "showticklabels": true,
         "tickangle": 0,
         "tickcolor": "rgb(0, 0, 0)",
         "tickfont": {
          "color": "rgba(0, 0, 0, 1.000)",
          "family": "sans-serif",
          "size": 11
         },
         "tickmode": "array",
         "ticks": "inside",
         "ticktext": [
          "2.5",
          "5.0",
          "7.5",
          "10.0",
          "12.5",
          "15.0"
         ],
         "tickvals": [
          2.5,
          5,
          7.5,
          10,
          12.5,
          15
         ],
         "title": "Position Error (km)",
         "titlefont": {
          "color": "rgba(0, 0, 0, 1.000)",
          "family": "sans-serif",
          "size": 15
         },
         "type": "-",
         "visible": true,
         "zeroline": false,
         "zerolinecolor": "rgba(0, 0, 0, 1.000)"
        }
       }
      },
      "text/html": [
       "<script src=\"file:///Users/zacman/.julia/v0.6/Plots/src/backends/../../deps/plotly-latest.min.js\"></script>    <div id=\"8e212849-4f09-4577-a4bb-5695ff7bdccd\" style=\"width:600px;height:400px;\"></div>\n",
       "    <script>\n",
       "    PLOT = document.getElementById('8e212849-4f09-4577-a4bb-5695ff7bdccd');\n",
       "    Plotly.plot(PLOT, [{\"xaxis\":\"x1\",\"colorbar\":{\"title\":\"\"},\"yaxis\":\"y1\",\"text\":[null,null,null,null,null,null,null,null,null,null,null,null,null,null,null],\"x\":[25.93779537037037,26.93779537037037,27.93779537037037,28.93779537037037,29.93779537037037,30.93779537037037,31.93779537037037,32.93779537037037,33.93779537037037,34.93779537037037,35.93779537037037,36.93779537037037,37.93779537037037,38.93779537037037,39.93779537037037],\"showlegend\":true,\"mode\":\"lines\",\"name\":\"y1\",\"legendgroup\":\"y1\",\"line\":{\"color\":\"rgba(0, 154, 250, 1.000)\",\"shape\":\"linear\",\"dash\":\"solid\",\"width\":1},\"y\":[3.195534170863837,14.247608802150612,15.928911420943225,14.588844670759002,11.998176160175651,8.849614798880886,5.583029319603112,2.8728935481639817,3.207277549384251,5.817055394336621,8.430582591488585,10.418857937266331,11.121824750213923,8.955849131153926,2.4040666360776215],\"type\":\"scatter\",\"hoverinfo\":\"text\"}], {\"showlegend\":true,\"xaxis\":{\"showticklabels\":true,\"gridwidth\":0.5,\"tickvals\":[27.5,30.0,32.5,35.0,37.5,40.0],\"visible\":true,\"ticks\":\"inside\",\"range\":[25.517795370370372,40.35779537037037],\"domain\":[0.09128390201224845,0.9934383202099738],\"tickmode\":\"array\",\"linecolor\":\"rgba(0, 0, 0, 1.000)\",\"showgrid\":true,\"title\":\"Time (Days)\",\"mirror\":false,\"tickangle\":0,\"showline\":true,\"gridcolor\":\"rgba(0, 0, 0, 0.100)\",\"titlefont\":{\"color\":\"rgba(0, 0, 0, 1.000)\",\"family\":\"sans-serif\",\"size\":15},\"tickcolor\":\"rgb(0, 0, 0)\",\"ticktext\":[\"27.5\",\"30.0\",\"32.5\",\"35.0\",\"37.5\",\"40.0\"],\"zeroline\":false,\"type\":\"-\",\"tickfont\":{\"color\":\"rgba(0, 0, 0, 1.000)\",\"family\":\"sans-serif\",\"size\":11},\"zerolinecolor\":\"rgba(0, 0, 0, 1.000)\",\"anchor\":\"y1\"},\"paper_bgcolor\":\"rgba(255, 255, 255, 1.000)\",\"annotations\":[],\"height\":400,\"margin\":{\"l\":0,\"b\":20,\"r\":0,\"t\":20},\"plot_bgcolor\":\"rgba(255, 255, 255, 1.000)\",\"yaxis\":{\"showticklabels\":true,\"gridwidth\":0.5,\"tickvals\":[2.5,5.0,7.5,10.0,12.5,15.0],\"visible\":true,\"ticks\":\"inside\",\"range\":[1.9983212925316534,16.334656764489193],\"domain\":[0.07581474190726165,0.9901574803149606],\"tickmode\":\"array\",\"linecolor\":\"rgba(0, 0, 0, 1.000)\",\"showgrid\":true,\"title\":\"Position Error (km)\",\"mirror\":false,\"tickangle\":0,\"showline\":true,\"gridcolor\":\"rgba(0, 0, 0, 0.100)\",\"titlefont\":{\"color\":\"rgba(0, 0, 0, 1.000)\",\"family\":\"sans-serif\",\"size\":15},\"tickcolor\":\"rgb(0, 0, 0)\",\"ticktext\":[\"2.5\",\"5.0\",\"7.5\",\"10.0\",\"12.5\",\"15.0\"],\"zeroline\":false,\"type\":\"-\",\"tickfont\":{\"color\":\"rgba(0, 0, 0, 1.000)\",\"family\":\"sans-serif\",\"size\":11},\"zerolinecolor\":\"rgba(0, 0, 0, 1.000)\",\"anchor\":\"x1\"},\"legend\":{\"tracegroupgap\":0,\"bordercolor\":\"rgba(0, 0, 0, 1.000)\",\"bgcolor\":\"rgba(255, 255, 255, 1.000)\",\"font\":{\"color\":\"rgba(0, 0, 0, 1.000)\",\"family\":\"sans-serif\",\"size\":11},\"y\":1.0,\"x\":1.0},\"width\":600});\n",
       "    </script>\n"
      ]
     },
     "execution_count": 11,
     "metadata": {},
     "output_type": "execute_result"
    }
   ],
   "source": [
    "#Calculate and plot position errors in kilometers\n",
    "e = zeros(length(t_samp));\n",
    "xfit = reshape(Optim.minimizer(fitresult),6,length(t_samp));\n",
    "for k = 1:length(t_samp)\n",
    "    e[k] = 1000*norm(xfit[1:3,k] - xnode[1:3,k]);\n",
    "end\n",
    "\n",
    "plot(t_samp,e, xlabel=\"Time (Days)\", ylabel=\"Position Error (km)\")"
   ]
  },
  {
   "cell_type": "code",
   "execution_count": null,
   "metadata": {},
   "outputs": [],
   "source": []
  }
 ],
 "metadata": {
  "kernelspec": {
   "display_name": "Julia 0.6.4",
   "language": "julia",
   "name": "julia-0.6"
  },
  "language_info": {
   "file_extension": ".jl",
   "mimetype": "application/julia",
   "name": "julia",
   "version": "0.6.4"
  }
 },
 "nbformat": 4,
 "nbformat_minor": 2
}
